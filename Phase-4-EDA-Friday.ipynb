{
 "cells": [
  {
   "cell_type": "code",
   "execution_count": 207,
   "id": "1b740ad9",
   "metadata": {},
   "outputs": [],
   "source": [
    "import pandas as pd\n",
    "import matplotlib.pyplot as plt\n",
    "import numpy as np\n",
    "\n",
    "import nltk\n",
    "from nltk.corpus import stopwords, wordnet\n",
    "from nltk.tokenize import RegexpTokenizer\n",
    "from nltk.stem import WordNetLemmatizer\n",
    "from nltk import pos_tag\n",
    "\n",
    "\n",
    "import string\n",
    "import re\n",
    "\n",
    "\n",
    "from sklearn.svm import SVC\n",
    "from sklearn.ensemble import RandomForestClassifier\n",
    "from sklearn.metrics import accuracy_score, confusion_matrix\n",
    "from sklearn.naive_bayes import MultinomialNB\n",
    "from sklearn.feature_extraction.text import CountVectorizer, TfidfTransformer\n",
    "from sklearn.model_selection import train_test_split, GridSearchCV\n",
    "import warnings\n",
    "warnings.filterwarnings('ignore')"
   ]
  },
  {
   "cell_type": "code",
   "execution_count": 119,
   "id": "34d54494",
   "metadata": {},
   "outputs": [
    {
     "data": {
      "text/html": [
       "<div>\n",
       "<style scoped>\n",
       "    .dataframe tbody tr th:only-of-type {\n",
       "        vertical-align: middle;\n",
       "    }\n",
       "\n",
       "    .dataframe tbody tr th {\n",
       "        vertical-align: top;\n",
       "    }\n",
       "\n",
       "    .dataframe thead th {\n",
       "        text-align: right;\n",
       "    }\n",
       "</style>\n",
       "<table border=\"1\" class=\"dataframe\">\n",
       "  <thead>\n",
       "    <tr style=\"text-align: right;\">\n",
       "      <th></th>\n",
       "      <th>tweet_text</th>\n",
       "      <th>emotion_in_tweet_is_directed_at</th>\n",
       "      <th>is_there_an_emotion_directed_at_a_brand_or_product</th>\n",
       "    </tr>\n",
       "  </thead>\n",
       "  <tbody>\n",
       "    <tr>\n",
       "      <th>0</th>\n",
       "      <td>.@wesley83 I have a 3G iPhone. After 3 hrs twe...</td>\n",
       "      <td>iPhone</td>\n",
       "      <td>Negative emotion</td>\n",
       "    </tr>\n",
       "    <tr>\n",
       "      <th>1</th>\n",
       "      <td>@jessedee Know about @fludapp ? Awesome iPad/i...</td>\n",
       "      <td>iPad or iPhone App</td>\n",
       "      <td>Positive emotion</td>\n",
       "    </tr>\n",
       "    <tr>\n",
       "      <th>2</th>\n",
       "      <td>@swonderlin Can not wait for #iPad 2 also. The...</td>\n",
       "      <td>iPad</td>\n",
       "      <td>Positive emotion</td>\n",
       "    </tr>\n",
       "    <tr>\n",
       "      <th>3</th>\n",
       "      <td>@sxsw I hope this year's festival isn't as cra...</td>\n",
       "      <td>iPad or iPhone App</td>\n",
       "      <td>Negative emotion</td>\n",
       "    </tr>\n",
       "    <tr>\n",
       "      <th>4</th>\n",
       "      <td>@sxtxstate great stuff on Fri #SXSW: Marissa M...</td>\n",
       "      <td>Google</td>\n",
       "      <td>Positive emotion</td>\n",
       "    </tr>\n",
       "  </tbody>\n",
       "</table>\n",
       "</div>"
      ],
      "text/plain": [
       "                                          tweet_text  \\\n",
       "0  .@wesley83 I have a 3G iPhone. After 3 hrs twe...   \n",
       "1  @jessedee Know about @fludapp ? Awesome iPad/i...   \n",
       "2  @swonderlin Can not wait for #iPad 2 also. The...   \n",
       "3  @sxsw I hope this year's festival isn't as cra...   \n",
       "4  @sxtxstate great stuff on Fri #SXSW: Marissa M...   \n",
       "\n",
       "  emotion_in_tweet_is_directed_at  \\\n",
       "0                          iPhone   \n",
       "1              iPad or iPhone App   \n",
       "2                            iPad   \n",
       "3              iPad or iPhone App   \n",
       "4                          Google   \n",
       "\n",
       "  is_there_an_emotion_directed_at_a_brand_or_product  \n",
       "0                                   Negative emotion  \n",
       "1                                   Positive emotion  \n",
       "2                                   Positive emotion  \n",
       "3                                   Negative emotion  \n",
       "4                                   Positive emotion  "
      ]
     },
     "execution_count": 119,
     "metadata": {},
     "output_type": "execute_result"
    }
   ],
   "source": [
    "df = pd.read_csv('phase-4-dataset.csv', encoding= 'latin1')\n",
    "df.head()"
   ]
  },
  {
   "cell_type": "code",
   "execution_count": 120,
   "id": "cacbb14b",
   "metadata": {},
   "outputs": [
    {
     "data": {
      "text/plain": [
       "(9093, 3)"
      ]
     },
     "execution_count": 120,
     "metadata": {},
     "output_type": "execute_result"
    }
   ],
   "source": [
    "df.shape"
   ]
  },
  {
   "cell_type": "markdown",
   "id": "187864d3",
   "metadata": {},
   "source": [
    "Renaming Columns"
   ]
  },
  {
   "cell_type": "code",
   "execution_count": 121,
   "id": "bb4e5e87",
   "metadata": {},
   "outputs": [],
   "source": [
    "df.rename(columns={\"is_there_an_emotion_directed_at_a_brand_or_product\" : \"emotion\"}, inplace=True)"
   ]
  },
  {
   "cell_type": "markdown",
   "id": "752198fd",
   "metadata": {},
   "source": [
    "Adding a Label Encoder to our Target column"
   ]
  },
  {
   "cell_type": "code",
   "execution_count": 122,
   "id": "77734358",
   "metadata": {},
   "outputs": [
    {
     "data": {
      "text/html": [
       "<div>\n",
       "<style scoped>\n",
       "    .dataframe tbody tr th:only-of-type {\n",
       "        vertical-align: middle;\n",
       "    }\n",
       "\n",
       "    .dataframe tbody tr th {\n",
       "        vertical-align: top;\n",
       "    }\n",
       "\n",
       "    .dataframe thead th {\n",
       "        text-align: right;\n",
       "    }\n",
       "</style>\n",
       "<table border=\"1\" class=\"dataframe\">\n",
       "  <thead>\n",
       "    <tr style=\"text-align: right;\">\n",
       "      <th></th>\n",
       "      <th>tweet_text</th>\n",
       "      <th>emotion_in_tweet_is_directed_at</th>\n",
       "      <th>emotion</th>\n",
       "      <th>label</th>\n",
       "    </tr>\n",
       "  </thead>\n",
       "  <tbody>\n",
       "    <tr>\n",
       "      <th>0</th>\n",
       "      <td>.@wesley83 I have a 3G iPhone. After 3 hrs twe...</td>\n",
       "      <td>iPhone</td>\n",
       "      <td>Negative emotion</td>\n",
       "      <td>1</td>\n",
       "    </tr>\n",
       "    <tr>\n",
       "      <th>1</th>\n",
       "      <td>@jessedee Know about @fludapp ? Awesome iPad/i...</td>\n",
       "      <td>iPad or iPhone App</td>\n",
       "      <td>Positive emotion</td>\n",
       "      <td>3</td>\n",
       "    </tr>\n",
       "    <tr>\n",
       "      <th>2</th>\n",
       "      <td>@swonderlin Can not wait for #iPad 2 also. The...</td>\n",
       "      <td>iPad</td>\n",
       "      <td>Positive emotion</td>\n",
       "      <td>3</td>\n",
       "    </tr>\n",
       "    <tr>\n",
       "      <th>3</th>\n",
       "      <td>@sxsw I hope this year's festival isn't as cra...</td>\n",
       "      <td>iPad or iPhone App</td>\n",
       "      <td>Negative emotion</td>\n",
       "      <td>1</td>\n",
       "    </tr>\n",
       "    <tr>\n",
       "      <th>4</th>\n",
       "      <td>@sxtxstate great stuff on Fri #SXSW: Marissa M...</td>\n",
       "      <td>Google</td>\n",
       "      <td>Positive emotion</td>\n",
       "      <td>3</td>\n",
       "    </tr>\n",
       "  </tbody>\n",
       "</table>\n",
       "</div>"
      ],
      "text/plain": [
       "                                          tweet_text  \\\n",
       "0  .@wesley83 I have a 3G iPhone. After 3 hrs twe...   \n",
       "1  @jessedee Know about @fludapp ? Awesome iPad/i...   \n",
       "2  @swonderlin Can not wait for #iPad 2 also. The...   \n",
       "3  @sxsw I hope this year's festival isn't as cra...   \n",
       "4  @sxtxstate great stuff on Fri #SXSW: Marissa M...   \n",
       "\n",
       "  emotion_in_tweet_is_directed_at           emotion  label  \n",
       "0                          iPhone  Negative emotion      1  \n",
       "1              iPad or iPhone App  Positive emotion      3  \n",
       "2                            iPad  Positive emotion      3  \n",
       "3              iPad or iPhone App  Negative emotion      1  \n",
       "4                          Google  Positive emotion      3  "
      ]
     },
     "execution_count": 122,
     "metadata": {},
     "output_type": "execute_result"
    }
   ],
   "source": [
    "from sklearn.preprocessing import LabelEncoder\n",
    "le = LabelEncoder()\n",
    "le.fit(df['emotion'])\n",
    "df['label'] = le.transform(df['emotion'])\n",
    "df.head()"
   ]
  },
  {
   "cell_type": "code",
   "execution_count": 205,
   "id": "e880d96b",
   "metadata": {},
   "outputs": [],
   "source": [
    "mapping = dict(zip(le.classes_, range(len(le.classes_))))"
   ]
  },
  {
   "cell_type": "markdown",
   "id": "69ae21a1",
   "metadata": {},
   "source": [
    "Seeing how many labels we're working with "
   ]
  },
  {
   "cell_type": "code",
   "execution_count": 123,
   "id": "d35bb29a",
   "metadata": {},
   "outputs": [],
   "source": [
    "df.drop(df[df['label']%2==0].index, inplace = True)"
   ]
  },
  {
   "cell_type": "code",
   "execution_count": 124,
   "id": "55620c05",
   "metadata": {},
   "outputs": [
    {
     "data": {
      "text/plain": [
       "array([1, 3])"
      ]
     },
     "execution_count": 124,
     "metadata": {},
     "output_type": "execute_result"
    }
   ],
   "source": [
    "df.label.unique()"
   ]
  },
  {
   "cell_type": "markdown",
   "id": "fae9e0df",
   "metadata": {},
   "source": [
    " any nulls?"
   ]
  },
  {
   "cell_type": "code",
   "execution_count": 125,
   "id": "4e4065e1",
   "metadata": {},
   "outputs": [
    {
     "data": {
      "text/plain": [
       "357"
      ]
     },
     "execution_count": 125,
     "metadata": {},
     "output_type": "execute_result"
    }
   ],
   "source": [
    "df.isnull().sum().sum()"
   ]
  },
  {
   "cell_type": "code",
   "execution_count": 126,
   "id": "9b99f844",
   "metadata": {
    "scrolled": true
   },
   "outputs": [
    {
     "name": "stdout",
     "output_type": "stream",
     "text": [
      "<class 'pandas.core.frame.DataFrame'>\n",
      "Int64Index: 3548 entries, 0 to 9088\n",
      "Data columns (total 4 columns):\n",
      " #   Column                           Non-Null Count  Dtype \n",
      "---  ------                           --------------  ----- \n",
      " 0   tweet_text                       3548 non-null   object\n",
      " 1   emotion_in_tweet_is_directed_at  3191 non-null   object\n",
      " 2   emotion                          3548 non-null   object\n",
      " 3   label                            3548 non-null   int64 \n",
      "dtypes: int64(1), object(3)\n",
      "memory usage: 138.6+ KB\n"
     ]
    }
   ],
   "source": [
    "df.info()"
   ]
  },
  {
   "cell_type": "markdown",
   "id": "14eb66c2",
   "metadata": {},
   "source": [
    "### taking a look at a random tweet from the corpus"
   ]
  },
  {
   "cell_type": "markdown",
   "id": "e4a132fb",
   "metadata": {},
   "source": [
    "### Let's see how it compares to one further down the rows"
   ]
  },
  {
   "cell_type": "code",
   "execution_count": 127,
   "id": "63e31ac4",
   "metadata": {},
   "outputs": [
    {
     "data": {
      "text/plain": [
       "'@mention check it. RT @mention #SXSW FREE App Festival Explorer: find the bands you want to see from your music tastes {link}'"
      ]
     },
     "execution_count": 127,
     "metadata": {},
     "output_type": "execute_result"
    }
   ],
   "source": [
    "df.loc[2345].tweet_text"
   ]
  },
  {
   "cell_type": "markdown",
   "id": "bf40dab2",
   "metadata": {},
   "source": [
    "### What is the target for tweet 2345?"
   ]
  },
  {
   "cell_type": "code",
   "execution_count": 128,
   "id": "84989424",
   "metadata": {},
   "outputs": [
    {
     "data": {
      "text/plain": [
       "'Positive emotion'"
      ]
     },
     "execution_count": 128,
     "metadata": {},
     "output_type": "execute_result"
    }
   ],
   "source": [
    "df.loc[2345].emotion"
   ]
  },
  {
   "cell_type": "markdown",
   "id": "cf20708a",
   "metadata": {},
   "source": [
    "### Let's look at another random tweet followed by its target"
   ]
  },
  {
   "cell_type": "code",
   "execution_count": 129,
   "id": "c2e38495",
   "metadata": {},
   "outputs": [
    {
     "data": {
      "text/plain": [
       "'RT @mention RT @mention Google to Launch Major New Social Network Called Circles, {link} #sxsw #nptech'"
      ]
     },
     "execution_count": 129,
     "metadata": {},
     "output_type": "execute_result"
    }
   ],
   "source": [
    "df.loc[6543].tweet_text"
   ]
  },
  {
   "cell_type": "markdown",
   "id": "befefddb",
   "metadata": {},
   "source": [
    "It looks like whenever someone types the \"@\" symbol it is translated to the phrase \"@mention\" instead of \"@-the-person-or-company.\" Probably this is to protect the public so we can use this corpus and its documents freely. We'll take care of that after Train Test Split"
   ]
  },
  {
   "cell_type": "code",
   "execution_count": 130,
   "id": "e98a891e",
   "metadata": {},
   "outputs": [
    {
     "data": {
      "text/plain": [
       "'Positive emotion'"
      ]
     },
     "execution_count": 130,
     "metadata": {},
     "output_type": "execute_result"
    }
   ],
   "source": [
    "df.loc[6543].emotion"
   ]
  },
  {
   "cell_type": "markdown",
   "id": "374f4614",
   "metadata": {},
   "source": [
    "# Train Test Split"
   ]
  },
  {
   "cell_type": "code",
   "execution_count": 131,
   "id": "e005fc98",
   "metadata": {},
   "outputs": [],
   "source": [
    "X = df.drop('label', axis=1)\n",
    "y = df['label']\n",
    "X_train, X_test, y_train, y_test = train_test_split(X, y, random_state=42, stratify=y)"
   ]
  },
  {
   "cell_type": "markdown",
   "id": "e76cae3f",
   "metadata": {},
   "source": [
    "## Functions that strip mentions, retweets, and embedded things"
   ]
  },
  {
   "cell_type": "code",
   "execution_count": 132,
   "id": "8ba2cbd2",
   "metadata": {},
   "outputs": [],
   "source": [
    "def remove_junk(text):\n",
    "    text = re.sub(r'@[A-Za-z0-9#]+', '', str(text)) #remove @mentions\n",
    "    text = re.sub(r'RT[\\s]+', '', str(text)) # remove RT\n",
    "    text = re.sub(r'\\[VIDEO\\]', '', str(text)) # remove [VIDEO] describer\n",
    "    text = re.sub(r'\\{link\\}', '', str(text)) # remove {link} describer\n",
    "    text = re.sub(r'https?:\\/\\/\\S+', '', text) # removes actual links\n",
    "    text = re.sub(r'[\\,\\.\\?\\*\\$\\'\\!\\(\\)\\:\\_\\/\\-\\=\\^\\;]+', '', text)\n",
    "    return text\n",
    "    \n",
    "    "
   ]
  },
  {
   "cell_type": "code",
   "execution_count": 133,
   "id": "ae8e6229",
   "metadata": {},
   "outputs": [],
   "source": [
    "# A function to remove all non-ASCII characters \n",
    "def remove_nonASCII(x):\n",
    "    text = ''.join([c for c in x if ord(c) < 128])\n",
    "    return text"
   ]
  },
  {
   "cell_type": "code",
   "execution_count": 134,
   "id": "64e0c3c3",
   "metadata": {},
   "outputs": [],
   "source": [
    "sw = stopwords.words('english')\n",
    "\n",
    "def tokenize_sw(tweet, stop_words=sw):\n",
    "    '''\n",
    "    \n",
    "    :param doc: a document from the satire corpus \n",
    "    :return: a document string with words which have been \n",
    "            lemmatized, \n",
    "            parsed for stopwords, \n",
    "            made lowercase,\n",
    "            and stripped of punctuation and numbers.\n",
    "    '''\n",
    "    \n",
    "    regex_token = RegexpTokenizer(r\"([a-zA-Z]+(?:’[a-z]+)?)\")\n",
    "    tokenized_tweet = regex_token.tokenize(tweet)\n",
    "    lowered_tokens = [word.lower() for word in tokenized_tweet]\n",
    "    cleaned_tweet = [word for word in lowered_tokens if word not in sw]\n",
    "    return cleaned_tweet"
   ]
  },
  {
   "cell_type": "code",
   "execution_count": 135,
   "id": "a5ccb57d",
   "metadata": {},
   "outputs": [],
   "source": [
    "X_train['tweet_text'] = X_train['tweet_text'].apply(remove_junk)"
   ]
  },
  {
   "cell_type": "code",
   "execution_count": 136,
   "id": "67f81ec8",
   "metadata": {},
   "outputs": [],
   "source": [
    "X_train['clean_tweet'] = X_train['tweet_text'].apply(remove_nonASCII)"
   ]
  },
  {
   "cell_type": "code",
   "execution_count": 137,
   "id": "0242e78c",
   "metadata": {},
   "outputs": [],
   "source": [
    "X_train['clean_tokens'] = X_train['clean_tweet'].apply(tokenize_sw)"
   ]
  },
  {
   "cell_type": "code",
   "execution_count": 138,
   "id": "90d5d06f",
   "metadata": {},
   "outputs": [
    {
     "data": {
      "text/plain": [
       "FreqDist({'friends': 1, 'austin': 1, 'sxsw': 1, 'ill': 1, 'buffalo': 1, 'new': 1, 'ipad': 1})"
      ]
     },
     "execution_count": 138,
     "metadata": {},
     "output_type": "execute_result"
    }
   ],
   "source": [
    "from nltk import FreqDist\n",
    "\n",
    "example_freq_dist = FreqDist(X_train.iloc[100][\"clean_tokens\"][:20])\n",
    "example_freq_dist"
   ]
  },
  {
   "cell_type": "code",
   "execution_count": 139,
   "id": "bc230e0a",
   "metadata": {},
   "outputs": [
    {
     "data": {
      "image/png": "[encoded data removed]",
      "text/plain": [
       "<Figure size 432x288 with 1 Axes>"
      ]
     },
     "metadata": {
      "needs_background": "light"
     },
     "output_type": "display_data"
    }
   ],
   "source": [
    "import matplotlib.pyplot as plt\n",
    "from matplotlib.ticker import MaxNLocator\n",
    "\n",
    "def visualize_top_10(freq_dist, title):\n",
    "\n",
    "    # Extract data for plotting\n",
    "    top_10 = list(zip(*freq_dist.most_common(10)))\n",
    "    tokens = top_10[0]\n",
    "    counts = top_10[1]\n",
    "\n",
    "    # Set up plot and plot data\n",
    "    fig, ax = plt.subplots()\n",
    "    ax.bar(tokens, counts)\n",
    "\n",
    "    # Customize plot appearance\n",
    "    ax.set_title(title)\n",
    "    ax.set_ylabel(\"Count\")\n",
    "    ax.yaxis.set_major_locator(MaxNLocator(integer=True))\n",
    "    ax.tick_params(axis=\"x\", rotation=90)\n",
    "    \n",
    "train_freq_dist = FreqDist(X_train['clean_tokens'].explode())\n",
    "\n",
    "# Plot the top 10 tokens\n",
    "visualize_top_10(train_freq_dist, \"Top 10 Word Frequency for 5 trains\")"
   ]
  },
  {
   "cell_type": "code",
   "execution_count": 140,
   "id": "5362692c",
   "metadata": {},
   "outputs": [
    {
     "data": {
      "text/html": [
       "<div>\n",
       "<style scoped>\n",
       "    .dataframe tbody tr th:only-of-type {\n",
       "        vertical-align: middle;\n",
       "    }\n",
       "\n",
       "    .dataframe tbody tr th {\n",
       "        vertical-align: top;\n",
       "    }\n",
       "\n",
       "    .dataframe thead th {\n",
       "        text-align: right;\n",
       "    }\n",
       "</style>\n",
       "<table border=\"1\" class=\"dataframe\">\n",
       "  <thead>\n",
       "    <tr style=\"text-align: right;\">\n",
       "      <th></th>\n",
       "      <th>tweet_text</th>\n",
       "      <th>emotion_in_tweet_is_directed_at</th>\n",
       "      <th>emotion</th>\n",
       "      <th>clean_tweet</th>\n",
       "      <th>clean_tokens</th>\n",
       "    </tr>\n",
       "  </thead>\n",
       "  <tbody>\n",
       "    <tr>\n",
       "      <th>692</th>\n",
       "      <td>the first iPad didnt even exist here last year...</td>\n",
       "      <td>iPad</td>\n",
       "      <td>Negative emotion</td>\n",
       "      <td>the first iPad didnt even exist here last year...</td>\n",
       "      <td>[first, ipad, didnt, even, exist, last, year, ...</td>\n",
       "    </tr>\n",
       "    <tr>\n",
       "      <th>3060</th>\n",
       "      <td>Thats awesome Its not a rumor Apple is opening...</td>\n",
       "      <td>Apple</td>\n",
       "      <td>Positive emotion</td>\n",
       "      <td>Thats awesome Its not a rumor Apple is opening...</td>\n",
       "      <td>[thats, awesome, rumor, apple, opening, tempor...</td>\n",
       "    </tr>\n",
       "    <tr>\n",
       "      <th>2088</th>\n",
       "      <td>had to charge the #iphone every 6hours here on...</td>\n",
       "      <td>iPhone</td>\n",
       "      <td>Negative emotion</td>\n",
       "      <td>had to charge the #iphone every 6hours here on...</td>\n",
       "      <td>[charge, iphone, every, hours, sxsw, running, ...</td>\n",
       "    </tr>\n",
       "    <tr>\n",
       "      <th>4998</th>\n",
       "      <td>Really COOL Stop by and let us make you a cust...</td>\n",
       "      <td>iPhone</td>\n",
       "      <td>Positive emotion</td>\n",
       "      <td>Really COOL Stop by and let us make you a cust...</td>\n",
       "      <td>[really, cool, stop, let, us, make, custom, ip...</td>\n",
       "    </tr>\n",
       "    <tr>\n",
       "      <th>5931</th>\n",
       "      <td>Googles Marissa Mayer on the locationbased fas...</td>\n",
       "      <td>Google</td>\n",
       "      <td>Positive emotion</td>\n",
       "      <td>Googles Marissa Mayer on the locationbased fas...</td>\n",
       "      <td>[googles, marissa, mayer, locationbased, fast,...</td>\n",
       "    </tr>\n",
       "    <tr>\n",
       "      <th>...</th>\n",
       "      <td>...</td>\n",
       "      <td>...</td>\n",
       "      <td>...</td>\n",
       "      <td>...</td>\n",
       "      <td>...</td>\n",
       "    </tr>\n",
       "    <tr>\n",
       "      <th>7253</th>\n",
       "      <td>Banks innovate or die is a great session &amp;quot...</td>\n",
       "      <td>iPad or iPhone App</td>\n",
       "      <td>Positive emotion</td>\n",
       "      <td>Banks innovate or die is a great session &amp;quot...</td>\n",
       "      <td>[banks, innovate, die, great, session, quot, k...</td>\n",
       "    </tr>\n",
       "    <tr>\n",
       "      <th>4833</th>\n",
       "      <td>Heading to Austin for #SXSW The  Austin guide ...</td>\n",
       "      <td>iPad or iPhone App</td>\n",
       "      <td>Positive emotion</td>\n",
       "      <td>Heading to Austin for #SXSW The  Austin guide ...</td>\n",
       "      <td>[heading, austin, sxsw, austin, guide, iphone,...</td>\n",
       "    </tr>\n",
       "    <tr>\n",
       "      <th>3568</th>\n",
       "      <td>I used to think that and then they started ma...</td>\n",
       "      <td>iPad or iPhone App</td>\n",
       "      <td>Positive emotion</td>\n",
       "      <td>I used to think that and then they started ma...</td>\n",
       "      <td>[used, think, started, making, great, apps, of...</td>\n",
       "    </tr>\n",
       "    <tr>\n",
       "      <th>5278</th>\n",
       "      <td>#SXSW #sxswparty Matt Damon upstairs at the Go...</td>\n",
       "      <td>NaN</td>\n",
       "      <td>Positive emotion</td>\n",
       "      <td>#SXSW #sxswparty Matt Damon upstairs at the Go...</td>\n",
       "      <td>[sxsw, sxswparty, matt, damon, upstairs, googl...</td>\n",
       "    </tr>\n",
       "    <tr>\n",
       "      <th>6611</th>\n",
       "      <td>The day Bank of America launched their iPhone ...</td>\n",
       "      <td>iPad or iPhone App</td>\n",
       "      <td>Positive emotion</td>\n",
       "      <td>The day Bank of America launched their iPhone ...</td>\n",
       "      <td>[day, bank, america, launched, iphone, app, go...</td>\n",
       "    </tr>\n",
       "  </tbody>\n",
       "</table>\n",
       "<p>2661 rows × 5 columns</p>\n",
       "</div>"
      ],
      "text/plain": [
       "                                             tweet_text  \\\n",
       "692   the first iPad didnt even exist here last year...   \n",
       "3060  Thats awesome Its not a rumor Apple is opening...   \n",
       "2088  had to charge the #iphone every 6hours here on...   \n",
       "4998  Really COOL Stop by and let us make you a cust...   \n",
       "5931  Googles Marissa Mayer on the locationbased fas...   \n",
       "...                                                 ...   \n",
       "7253  Banks innovate or die is a great session &quot...   \n",
       "4833  Heading to Austin for #SXSW The  Austin guide ...   \n",
       "3568   I used to think that and then they started ma...   \n",
       "5278  #SXSW #sxswparty Matt Damon upstairs at the Go...   \n",
       "6611  The day Bank of America launched their iPhone ...   \n",
       "\n",
       "     emotion_in_tweet_is_directed_at           emotion  \\\n",
       "692                             iPad  Negative emotion   \n",
       "3060                           Apple  Positive emotion   \n",
       "2088                          iPhone  Negative emotion   \n",
       "4998                          iPhone  Positive emotion   \n",
       "5931                          Google  Positive emotion   \n",
       "...                              ...               ...   \n",
       "7253              iPad or iPhone App  Positive emotion   \n",
       "4833              iPad or iPhone App  Positive emotion   \n",
       "3568              iPad or iPhone App  Positive emotion   \n",
       "5278                             NaN  Positive emotion   \n",
       "6611              iPad or iPhone App  Positive emotion   \n",
       "\n",
       "                                            clean_tweet  \\\n",
       "692   the first iPad didnt even exist here last year...   \n",
       "3060  Thats awesome Its not a rumor Apple is opening...   \n",
       "2088  had to charge the #iphone every 6hours here on...   \n",
       "4998  Really COOL Stop by and let us make you a cust...   \n",
       "5931  Googles Marissa Mayer on the locationbased fas...   \n",
       "...                                                 ...   \n",
       "7253  Banks innovate or die is a great session &quot...   \n",
       "4833  Heading to Austin for #SXSW The  Austin guide ...   \n",
       "3568   I used to think that and then they started ma...   \n",
       "5278  #SXSW #sxswparty Matt Damon upstairs at the Go...   \n",
       "6611  The day Bank of America launched their iPhone ...   \n",
       "\n",
       "                                           clean_tokens  \n",
       "692   [first, ipad, didnt, even, exist, last, year, ...  \n",
       "3060  [thats, awesome, rumor, apple, opening, tempor...  \n",
       "2088  [charge, iphone, every, hours, sxsw, running, ...  \n",
       "4998  [really, cool, stop, let, us, make, custom, ip...  \n",
       "5931  [googles, marissa, mayer, locationbased, fast,...  \n",
       "...                                                 ...  \n",
       "7253  [banks, innovate, die, great, session, quot, k...  \n",
       "4833  [heading, austin, sxsw, austin, guide, iphone,...  \n",
       "3568  [used, think, started, making, great, apps, of...  \n",
       "5278  [sxsw, sxswparty, matt, damon, upstairs, googl...  \n",
       "6611  [day, bank, america, launched, iphone, app, go...  \n",
       "\n",
       "[2661 rows x 5 columns]"
      ]
     },
     "execution_count": 140,
     "metadata": {},
     "output_type": "execute_result"
    }
   ],
   "source": [
    "X_train"
   ]
  },
  {
   "cell_type": "code",
   "execution_count": 141,
   "id": "658125ff",
   "metadata": {},
   "outputs": [
    {
     "data": {
      "text/html": [
       "<div>\n",
       "<style scoped>\n",
       "    .dataframe tbody tr th:only-of-type {\n",
       "        vertical-align: middle;\n",
       "    }\n",
       "\n",
       "    .dataframe tbody tr th {\n",
       "        vertical-align: top;\n",
       "    }\n",
       "\n",
       "    .dataframe thead th {\n",
       "        text-align: right;\n",
       "    }\n",
       "</style>\n",
       "<table border=\"1\" class=\"dataframe\">\n",
       "  <thead>\n",
       "    <tr style=\"text-align: right;\">\n",
       "      <th></th>\n",
       "      <th>amp</th>\n",
       "      <th>android</th>\n",
       "      <th>app</th>\n",
       "      <th>apple</th>\n",
       "      <th>austin</th>\n",
       "      <th>circles</th>\n",
       "      <th>free</th>\n",
       "      <th>get</th>\n",
       "      <th>google</th>\n",
       "      <th>great</th>\n",
       "      <th>...</th>\n",
       "      <th>line</th>\n",
       "      <th>new</th>\n",
       "      <th>popup</th>\n",
       "      <th>quot</th>\n",
       "      <th>social</th>\n",
       "      <th>store</th>\n",
       "      <th>sxsw</th>\n",
       "      <th>time</th>\n",
       "      <th>today</th>\n",
       "      <th>via</th>\n",
       "    </tr>\n",
       "  </thead>\n",
       "  <tbody>\n",
       "    <tr>\n",
       "      <th>0</th>\n",
       "      <td>0.0</td>\n",
       "      <td>0.0</td>\n",
       "      <td>0.000000</td>\n",
       "      <td>0.000000</td>\n",
       "      <td>0.000000</td>\n",
       "      <td>0.0</td>\n",
       "      <td>0.000000</td>\n",
       "      <td>0.0</td>\n",
       "      <td>0.000000</td>\n",
       "      <td>0.000000</td>\n",
       "      <td>...</td>\n",
       "      <td>0.0</td>\n",
       "      <td>0.00000</td>\n",
       "      <td>0.0</td>\n",
       "      <td>0.000000</td>\n",
       "      <td>0.0</td>\n",
       "      <td>0.000000</td>\n",
       "      <td>0.140134</td>\n",
       "      <td>0.000000</td>\n",
       "      <td>0.0</td>\n",
       "      <td>0.0</td>\n",
       "    </tr>\n",
       "    <tr>\n",
       "      <th>1</th>\n",
       "      <td>0.0</td>\n",
       "      <td>0.0</td>\n",
       "      <td>0.000000</td>\n",
       "      <td>0.468229</td>\n",
       "      <td>0.668722</td>\n",
       "      <td>0.0</td>\n",
       "      <td>0.000000</td>\n",
       "      <td>0.0</td>\n",
       "      <td>0.000000</td>\n",
       "      <td>0.000000</td>\n",
       "      <td>...</td>\n",
       "      <td>0.0</td>\n",
       "      <td>0.00000</td>\n",
       "      <td>0.0</td>\n",
       "      <td>0.000000</td>\n",
       "      <td>0.0</td>\n",
       "      <td>0.544882</td>\n",
       "      <td>0.191510</td>\n",
       "      <td>0.000000</td>\n",
       "      <td>0.0</td>\n",
       "      <td>0.0</td>\n",
       "    </tr>\n",
       "    <tr>\n",
       "      <th>2</th>\n",
       "      <td>0.0</td>\n",
       "      <td>0.0</td>\n",
       "      <td>0.000000</td>\n",
       "      <td>0.652167</td>\n",
       "      <td>0.000000</td>\n",
       "      <td>0.0</td>\n",
       "      <td>0.000000</td>\n",
       "      <td>0.0</td>\n",
       "      <td>0.000000</td>\n",
       "      <td>0.000000</td>\n",
       "      <td>...</td>\n",
       "      <td>0.0</td>\n",
       "      <td>0.00000</td>\n",
       "      <td>0.0</td>\n",
       "      <td>0.000000</td>\n",
       "      <td>0.0</td>\n",
       "      <td>0.000000</td>\n",
       "      <td>0.266743</td>\n",
       "      <td>0.000000</td>\n",
       "      <td>0.0</td>\n",
       "      <td>0.0</td>\n",
       "    </tr>\n",
       "    <tr>\n",
       "      <th>3</th>\n",
       "      <td>0.0</td>\n",
       "      <td>0.0</td>\n",
       "      <td>0.000000</td>\n",
       "      <td>0.000000</td>\n",
       "      <td>0.000000</td>\n",
       "      <td>0.0</td>\n",
       "      <td>0.000000</td>\n",
       "      <td>0.0</td>\n",
       "      <td>0.000000</td>\n",
       "      <td>0.000000</td>\n",
       "      <td>...</td>\n",
       "      <td>0.0</td>\n",
       "      <td>0.00000</td>\n",
       "      <td>0.0</td>\n",
       "      <td>0.000000</td>\n",
       "      <td>0.0</td>\n",
       "      <td>0.000000</td>\n",
       "      <td>0.351868</td>\n",
       "      <td>0.000000</td>\n",
       "      <td>0.0</td>\n",
       "      <td>0.0</td>\n",
       "    </tr>\n",
       "    <tr>\n",
       "      <th>4</th>\n",
       "      <td>0.0</td>\n",
       "      <td>0.0</td>\n",
       "      <td>0.000000</td>\n",
       "      <td>0.000000</td>\n",
       "      <td>0.000000</td>\n",
       "      <td>0.0</td>\n",
       "      <td>0.000000</td>\n",
       "      <td>0.0</td>\n",
       "      <td>0.000000</td>\n",
       "      <td>0.000000</td>\n",
       "      <td>...</td>\n",
       "      <td>0.0</td>\n",
       "      <td>0.00000</td>\n",
       "      <td>0.0</td>\n",
       "      <td>0.000000</td>\n",
       "      <td>0.0</td>\n",
       "      <td>0.000000</td>\n",
       "      <td>1.000000</td>\n",
       "      <td>0.000000</td>\n",
       "      <td>0.0</td>\n",
       "      <td>0.0</td>\n",
       "    </tr>\n",
       "    <tr>\n",
       "      <th>...</th>\n",
       "      <td>...</td>\n",
       "      <td>...</td>\n",
       "      <td>...</td>\n",
       "      <td>...</td>\n",
       "      <td>...</td>\n",
       "      <td>...</td>\n",
       "      <td>...</td>\n",
       "      <td>...</td>\n",
       "      <td>...</td>\n",
       "      <td>...</td>\n",
       "      <td>...</td>\n",
       "      <td>...</td>\n",
       "      <td>...</td>\n",
       "      <td>...</td>\n",
       "      <td>...</td>\n",
       "      <td>...</td>\n",
       "      <td>...</td>\n",
       "      <td>...</td>\n",
       "      <td>...</td>\n",
       "      <td>...</td>\n",
       "      <td>...</td>\n",
       "    </tr>\n",
       "    <tr>\n",
       "      <th>2656</th>\n",
       "      <td>0.0</td>\n",
       "      <td>0.0</td>\n",
       "      <td>0.451512</td>\n",
       "      <td>0.000000</td>\n",
       "      <td>0.000000</td>\n",
       "      <td>0.0</td>\n",
       "      <td>0.000000</td>\n",
       "      <td>0.0</td>\n",
       "      <td>0.000000</td>\n",
       "      <td>0.603205</td>\n",
       "      <td>...</td>\n",
       "      <td>0.0</td>\n",
       "      <td>0.00000</td>\n",
       "      <td>0.0</td>\n",
       "      <td>0.509136</td>\n",
       "      <td>0.0</td>\n",
       "      <td>0.000000</td>\n",
       "      <td>0.146379</td>\n",
       "      <td>0.000000</td>\n",
       "      <td>0.0</td>\n",
       "      <td>0.0</td>\n",
       "    </tr>\n",
       "    <tr>\n",
       "      <th>2657</th>\n",
       "      <td>0.0</td>\n",
       "      <td>0.0</td>\n",
       "      <td>0.000000</td>\n",
       "      <td>0.000000</td>\n",
       "      <td>0.723108</td>\n",
       "      <td>0.0</td>\n",
       "      <td>0.454035</td>\n",
       "      <td>0.0</td>\n",
       "      <td>0.000000</td>\n",
       "      <td>0.000000</td>\n",
       "      <td>...</td>\n",
       "      <td>0.0</td>\n",
       "      <td>0.00000</td>\n",
       "      <td>0.0</td>\n",
       "      <td>0.000000</td>\n",
       "      <td>0.0</td>\n",
       "      <td>0.000000</td>\n",
       "      <td>0.103543</td>\n",
       "      <td>0.429389</td>\n",
       "      <td>0.0</td>\n",
       "      <td>0.0</td>\n",
       "    </tr>\n",
       "    <tr>\n",
       "      <th>2658</th>\n",
       "      <td>0.0</td>\n",
       "      <td>0.0</td>\n",
       "      <td>0.544337</td>\n",
       "      <td>0.000000</td>\n",
       "      <td>0.000000</td>\n",
       "      <td>0.0</td>\n",
       "      <td>0.000000</td>\n",
       "      <td>0.0</td>\n",
       "      <td>0.000000</td>\n",
       "      <td>0.727217</td>\n",
       "      <td>...</td>\n",
       "      <td>0.0</td>\n",
       "      <td>0.00000</td>\n",
       "      <td>0.0</td>\n",
       "      <td>0.000000</td>\n",
       "      <td>0.0</td>\n",
       "      <td>0.000000</td>\n",
       "      <td>0.176473</td>\n",
       "      <td>0.000000</td>\n",
       "      <td>0.0</td>\n",
       "      <td>0.0</td>\n",
       "    </tr>\n",
       "    <tr>\n",
       "      <th>2659</th>\n",
       "      <td>0.0</td>\n",
       "      <td>0.0</td>\n",
       "      <td>0.000000</td>\n",
       "      <td>0.000000</td>\n",
       "      <td>0.000000</td>\n",
       "      <td>0.0</td>\n",
       "      <td>0.000000</td>\n",
       "      <td>0.0</td>\n",
       "      <td>0.931379</td>\n",
       "      <td>0.000000</td>\n",
       "      <td>...</td>\n",
       "      <td>0.0</td>\n",
       "      <td>0.00000</td>\n",
       "      <td>0.0</td>\n",
       "      <td>0.000000</td>\n",
       "      <td>0.0</td>\n",
       "      <td>0.000000</td>\n",
       "      <td>0.364052</td>\n",
       "      <td>0.000000</td>\n",
       "      <td>0.0</td>\n",
       "      <td>0.0</td>\n",
       "    </tr>\n",
       "    <tr>\n",
       "      <th>2660</th>\n",
       "      <td>0.0</td>\n",
       "      <td>0.0</td>\n",
       "      <td>0.584887</td>\n",
       "      <td>0.000000</td>\n",
       "      <td>0.000000</td>\n",
       "      <td>0.0</td>\n",
       "      <td>0.000000</td>\n",
       "      <td>0.0</td>\n",
       "      <td>0.000000</td>\n",
       "      <td>0.000000</td>\n",
       "      <td>...</td>\n",
       "      <td>0.0</td>\n",
       "      <td>0.60622</td>\n",
       "      <td>0.0</td>\n",
       "      <td>0.000000</td>\n",
       "      <td>0.0</td>\n",
       "      <td>0.000000</td>\n",
       "      <td>0.189619</td>\n",
       "      <td>0.000000</td>\n",
       "      <td>0.0</td>\n",
       "      <td>0.0</td>\n",
       "    </tr>\n",
       "  </tbody>\n",
       "</table>\n",
       "<p>2661 rows × 25 columns</p>\n",
       "</div>"
      ],
      "text/plain": [
       "      amp  android       app     apple    austin  circles      free  get  \\\n",
       "0     0.0      0.0  0.000000  0.000000  0.000000      0.0  0.000000  0.0   \n",
       "1     0.0      0.0  0.000000  0.468229  0.668722      0.0  0.000000  0.0   \n",
       "2     0.0      0.0  0.000000  0.652167  0.000000      0.0  0.000000  0.0   \n",
       "3     0.0      0.0  0.000000  0.000000  0.000000      0.0  0.000000  0.0   \n",
       "4     0.0      0.0  0.000000  0.000000  0.000000      0.0  0.000000  0.0   \n",
       "...   ...      ...       ...       ...       ...      ...       ...  ...   \n",
       "2656  0.0      0.0  0.451512  0.000000  0.000000      0.0  0.000000  0.0   \n",
       "2657  0.0      0.0  0.000000  0.000000  0.723108      0.0  0.454035  0.0   \n",
       "2658  0.0      0.0  0.544337  0.000000  0.000000      0.0  0.000000  0.0   \n",
       "2659  0.0      0.0  0.000000  0.000000  0.000000      0.0  0.000000  0.0   \n",
       "2660  0.0      0.0  0.584887  0.000000  0.000000      0.0  0.000000  0.0   \n",
       "\n",
       "        google     great  ...  line      new  popup      quot  social  \\\n",
       "0     0.000000  0.000000  ...   0.0  0.00000    0.0  0.000000     0.0   \n",
       "1     0.000000  0.000000  ...   0.0  0.00000    0.0  0.000000     0.0   \n",
       "2     0.000000  0.000000  ...   0.0  0.00000    0.0  0.000000     0.0   \n",
       "3     0.000000  0.000000  ...   0.0  0.00000    0.0  0.000000     0.0   \n",
       "4     0.000000  0.000000  ...   0.0  0.00000    0.0  0.000000     0.0   \n",
       "...        ...       ...  ...   ...      ...    ...       ...     ...   \n",
       "2656  0.000000  0.603205  ...   0.0  0.00000    0.0  0.509136     0.0   \n",
       "2657  0.000000  0.000000  ...   0.0  0.00000    0.0  0.000000     0.0   \n",
       "2658  0.000000  0.727217  ...   0.0  0.00000    0.0  0.000000     0.0   \n",
       "2659  0.931379  0.000000  ...   0.0  0.00000    0.0  0.000000     0.0   \n",
       "2660  0.000000  0.000000  ...   0.0  0.60622    0.0  0.000000     0.0   \n",
       "\n",
       "         store      sxsw      time  today  via  \n",
       "0     0.000000  0.140134  0.000000    0.0  0.0  \n",
       "1     0.544882  0.191510  0.000000    0.0  0.0  \n",
       "2     0.000000  0.266743  0.000000    0.0  0.0  \n",
       "3     0.000000  0.351868  0.000000    0.0  0.0  \n",
       "4     0.000000  1.000000  0.000000    0.0  0.0  \n",
       "...        ...       ...       ...    ...  ...  \n",
       "2656  0.000000  0.146379  0.000000    0.0  0.0  \n",
       "2657  0.000000  0.103543  0.429389    0.0  0.0  \n",
       "2658  0.000000  0.176473  0.000000    0.0  0.0  \n",
       "2659  0.000000  0.364052  0.000000    0.0  0.0  \n",
       "2660  0.000000  0.189619  0.000000    0.0  0.0  \n",
       "\n",
       "[2661 rows x 25 columns]"
      ]
     },
     "execution_count": 141,
     "metadata": {},
     "output_type": "execute_result"
    }
   ],
   "source": [
    "# Import the relevant vectorizer class\n",
    "from sklearn.feature_extraction.text import TfidfVectorizer\n",
    "\n",
    "# Instantiate a vectorizer with max_features=10\n",
    "# (we are using the default token pattern)\n",
    "tfidf = TfidfVectorizer(stop_words=sw, max_features=25)\n",
    "\n",
    "# Fit the vectorizer on X_train[\"text\"] and transform it\n",
    "X_train_vectorized = tfidf.fit_transform(X_train['tweet_text'])\n",
    "\n",
    "# Visually inspect the 10 most common words\n",
    "pd.DataFrame.sparse.from_spmatrix(X_train_vectorized, columns=tfidf.get_feature_names())"
   ]
  },
  {
   "cell_type": "markdown",
   "id": "b12a44a6",
   "metadata": {},
   "source": [
    "## Comparing with no Stopwords"
   ]
  },
  {
   "cell_type": "code",
   "execution_count": 142,
   "id": "3c423067",
   "metadata": {},
   "outputs": [
    {
     "data": {
      "text/html": [
       "<div>\n",
       "<style scoped>\n",
       "    .dataframe tbody tr th:only-of-type {\n",
       "        vertical-align: middle;\n",
       "    }\n",
       "\n",
       "    .dataframe tbody tr th {\n",
       "        vertical-align: top;\n",
       "    }\n",
       "\n",
       "    .dataframe thead th {\n",
       "        text-align: right;\n",
       "    }\n",
       "</style>\n",
       "<table border=\"1\" class=\"dataframe\">\n",
       "  <thead>\n",
       "    <tr style=\"text-align: right;\">\n",
       "      <th></th>\n",
       "      <th>an</th>\n",
       "      <th>and</th>\n",
       "      <th>app</th>\n",
       "      <th>apple</th>\n",
       "      <th>at</th>\n",
       "      <th>austin</th>\n",
       "      <th>for</th>\n",
       "      <th>google</th>\n",
       "      <th>in</th>\n",
       "      <th>ipad</th>\n",
       "      <th>...</th>\n",
       "      <th>of</th>\n",
       "      <th>on</th>\n",
       "      <th>quot</th>\n",
       "      <th>store</th>\n",
       "      <th>sxsw</th>\n",
       "      <th>the</th>\n",
       "      <th>to</th>\n",
       "      <th>up</th>\n",
       "      <th>with</th>\n",
       "      <th>you</th>\n",
       "    </tr>\n",
       "  </thead>\n",
       "  <tbody>\n",
       "    <tr>\n",
       "      <th>0</th>\n",
       "      <td>0.448658</td>\n",
       "      <td>0.380933</td>\n",
       "      <td>0.000000</td>\n",
       "      <td>0.00000</td>\n",
       "      <td>0.000000</td>\n",
       "      <td>0.000000</td>\n",
       "      <td>0.000000</td>\n",
       "      <td>0.000000</td>\n",
       "      <td>0.000000</td>\n",
       "      <td>0.597116</td>\n",
       "      <td>...</td>\n",
       "      <td>0.000000</td>\n",
       "      <td>0.000000</td>\n",
       "      <td>0.000000</td>\n",
       "      <td>0.000000</td>\n",
       "      <td>0.138983</td>\n",
       "      <td>0.258406</td>\n",
       "      <td>0.000000</td>\n",
       "      <td>0.000000</td>\n",
       "      <td>0.0</td>\n",
       "      <td>0.000000</td>\n",
       "    </tr>\n",
       "    <tr>\n",
       "      <th>1</th>\n",
       "      <td>0.000000</td>\n",
       "      <td>0.000000</td>\n",
       "      <td>0.000000</td>\n",
       "      <td>0.33772</td>\n",
       "      <td>0.000000</td>\n",
       "      <td>0.482329</td>\n",
       "      <td>0.000000</td>\n",
       "      <td>0.000000</td>\n",
       "      <td>0.363138</td>\n",
       "      <td>0.000000</td>\n",
       "      <td>...</td>\n",
       "      <td>0.000000</td>\n",
       "      <td>0.000000</td>\n",
       "      <td>0.000000</td>\n",
       "      <td>0.393008</td>\n",
       "      <td>0.138131</td>\n",
       "      <td>0.000000</td>\n",
       "      <td>0.000000</td>\n",
       "      <td>0.473165</td>\n",
       "      <td>0.0</td>\n",
       "      <td>0.000000</td>\n",
       "    </tr>\n",
       "    <tr>\n",
       "      <th>2</th>\n",
       "      <td>0.000000</td>\n",
       "      <td>0.000000</td>\n",
       "      <td>0.000000</td>\n",
       "      <td>0.29876</td>\n",
       "      <td>0.000000</td>\n",
       "      <td>0.000000</td>\n",
       "      <td>0.000000</td>\n",
       "      <td>0.000000</td>\n",
       "      <td>0.000000</td>\n",
       "      <td>0.000000</td>\n",
       "      <td>...</td>\n",
       "      <td>0.000000</td>\n",
       "      <td>0.717979</td>\n",
       "      <td>0.000000</td>\n",
       "      <td>0.000000</td>\n",
       "      <td>0.122196</td>\n",
       "      <td>0.227194</td>\n",
       "      <td>0.258356</td>\n",
       "      <td>0.000000</td>\n",
       "      <td>0.0</td>\n",
       "      <td>0.000000</td>\n",
       "    </tr>\n",
       "    <tr>\n",
       "      <th>3</th>\n",
       "      <td>0.000000</td>\n",
       "      <td>0.517878</td>\n",
       "      <td>0.000000</td>\n",
       "      <td>0.00000</td>\n",
       "      <td>0.000000</td>\n",
       "      <td>0.000000</td>\n",
       "      <td>0.000000</td>\n",
       "      <td>0.000000</td>\n",
       "      <td>0.000000</td>\n",
       "      <td>0.000000</td>\n",
       "      <td>...</td>\n",
       "      <td>0.000000</td>\n",
       "      <td>0.000000</td>\n",
       "      <td>0.000000</td>\n",
       "      <td>0.000000</td>\n",
       "      <td>0.188948</td>\n",
       "      <td>0.000000</td>\n",
       "      <td>0.000000</td>\n",
       "      <td>0.000000</td>\n",
       "      <td>0.0</td>\n",
       "      <td>0.665921</td>\n",
       "    </tr>\n",
       "    <tr>\n",
       "      <th>4</th>\n",
       "      <td>0.000000</td>\n",
       "      <td>0.603884</td>\n",
       "      <td>0.000000</td>\n",
       "      <td>0.00000</td>\n",
       "      <td>0.000000</td>\n",
       "      <td>0.000000</td>\n",
       "      <td>0.000000</td>\n",
       "      <td>0.000000</td>\n",
       "      <td>0.000000</td>\n",
       "      <td>0.000000</td>\n",
       "      <td>...</td>\n",
       "      <td>0.000000</td>\n",
       "      <td>0.647280</td>\n",
       "      <td>0.000000</td>\n",
       "      <td>0.000000</td>\n",
       "      <td>0.220327</td>\n",
       "      <td>0.409645</td>\n",
       "      <td>0.000000</td>\n",
       "      <td>0.000000</td>\n",
       "      <td>0.0</td>\n",
       "      <td>0.000000</td>\n",
       "    </tr>\n",
       "    <tr>\n",
       "      <th>...</th>\n",
       "      <td>...</td>\n",
       "      <td>...</td>\n",
       "      <td>...</td>\n",
       "      <td>...</td>\n",
       "      <td>...</td>\n",
       "      <td>...</td>\n",
       "      <td>...</td>\n",
       "      <td>...</td>\n",
       "      <td>...</td>\n",
       "      <td>...</td>\n",
       "      <td>...</td>\n",
       "      <td>...</td>\n",
       "      <td>...</td>\n",
       "      <td>...</td>\n",
       "      <td>...</td>\n",
       "      <td>...</td>\n",
       "      <td>...</td>\n",
       "      <td>...</td>\n",
       "      <td>...</td>\n",
       "      <td>...</td>\n",
       "      <td>...</td>\n",
       "    </tr>\n",
       "    <tr>\n",
       "      <th>2656</th>\n",
       "      <td>0.423760</td>\n",
       "      <td>0.000000</td>\n",
       "      <td>0.404908</td>\n",
       "      <td>0.00000</td>\n",
       "      <td>0.000000</td>\n",
       "      <td>0.000000</td>\n",
       "      <td>0.000000</td>\n",
       "      <td>0.000000</td>\n",
       "      <td>0.000000</td>\n",
       "      <td>0.000000</td>\n",
       "      <td>...</td>\n",
       "      <td>0.346117</td>\n",
       "      <td>0.000000</td>\n",
       "      <td>0.456585</td>\n",
       "      <td>0.000000</td>\n",
       "      <td>0.131270</td>\n",
       "      <td>0.000000</td>\n",
       "      <td>0.277542</td>\n",
       "      <td>0.000000</td>\n",
       "      <td>0.0</td>\n",
       "      <td>0.000000</td>\n",
       "    </tr>\n",
       "    <tr>\n",
       "      <th>2657</th>\n",
       "      <td>0.000000</td>\n",
       "      <td>0.000000</td>\n",
       "      <td>0.000000</td>\n",
       "      <td>0.00000</td>\n",
       "      <td>0.000000</td>\n",
       "      <td>0.633109</td>\n",
       "      <td>0.643606</td>\n",
       "      <td>0.000000</td>\n",
       "      <td>0.000000</td>\n",
       "      <td>0.000000</td>\n",
       "      <td>...</td>\n",
       "      <td>0.000000</td>\n",
       "      <td>0.000000</td>\n",
       "      <td>0.000000</td>\n",
       "      <td>0.000000</td>\n",
       "      <td>0.090656</td>\n",
       "      <td>0.168553</td>\n",
       "      <td>0.191672</td>\n",
       "      <td>0.000000</td>\n",
       "      <td>0.0</td>\n",
       "      <td>0.000000</td>\n",
       "    </tr>\n",
       "    <tr>\n",
       "      <th>2658</th>\n",
       "      <td>0.000000</td>\n",
       "      <td>0.697666</td>\n",
       "      <td>0.392573</td>\n",
       "      <td>0.00000</td>\n",
       "      <td>0.000000</td>\n",
       "      <td>0.000000</td>\n",
       "      <td>0.000000</td>\n",
       "      <td>0.000000</td>\n",
       "      <td>0.000000</td>\n",
       "      <td>0.273399</td>\n",
       "      <td>...</td>\n",
       "      <td>0.000000</td>\n",
       "      <td>0.373901</td>\n",
       "      <td>0.000000</td>\n",
       "      <td>0.000000</td>\n",
       "      <td>0.127271</td>\n",
       "      <td>0.236631</td>\n",
       "      <td>0.269087</td>\n",
       "      <td>0.000000</td>\n",
       "      <td>0.0</td>\n",
       "      <td>0.000000</td>\n",
       "    </tr>\n",
       "    <tr>\n",
       "      <th>2659</th>\n",
       "      <td>0.000000</td>\n",
       "      <td>0.000000</td>\n",
       "      <td>0.000000</td>\n",
       "      <td>0.00000</td>\n",
       "      <td>0.548934</td>\n",
       "      <td>0.000000</td>\n",
       "      <td>0.000000</td>\n",
       "      <td>0.644706</td>\n",
       "      <td>0.000000</td>\n",
       "      <td>0.000000</td>\n",
       "      <td>...</td>\n",
       "      <td>0.000000</td>\n",
       "      <td>0.000000</td>\n",
       "      <td>0.000000</td>\n",
       "      <td>0.000000</td>\n",
       "      <td>0.251999</td>\n",
       "      <td>0.468532</td>\n",
       "      <td>0.000000</td>\n",
       "      <td>0.000000</td>\n",
       "      <td>0.0</td>\n",
       "      <td>0.000000</td>\n",
       "    </tr>\n",
       "    <tr>\n",
       "      <th>2660</th>\n",
       "      <td>0.000000</td>\n",
       "      <td>0.000000</td>\n",
       "      <td>0.498928</td>\n",
       "      <td>0.00000</td>\n",
       "      <td>0.000000</td>\n",
       "      <td>0.000000</td>\n",
       "      <td>0.000000</td>\n",
       "      <td>0.000000</td>\n",
       "      <td>0.000000</td>\n",
       "      <td>0.000000</td>\n",
       "      <td>...</td>\n",
       "      <td>0.426486</td>\n",
       "      <td>0.000000</td>\n",
       "      <td>0.000000</td>\n",
       "      <td>0.000000</td>\n",
       "      <td>0.161752</td>\n",
       "      <td>0.300738</td>\n",
       "      <td>0.000000</td>\n",
       "      <td>0.000000</td>\n",
       "      <td>0.0</td>\n",
       "      <td>0.000000</td>\n",
       "    </tr>\n",
       "  </tbody>\n",
       "</table>\n",
       "<p>2661 rows × 25 columns</p>\n",
       "</div>"
      ],
      "text/plain": [
       "            an       and       app    apple        at    austin       for  \\\n",
       "0     0.448658  0.380933  0.000000  0.00000  0.000000  0.000000  0.000000   \n",
       "1     0.000000  0.000000  0.000000  0.33772  0.000000  0.482329  0.000000   \n",
       "2     0.000000  0.000000  0.000000  0.29876  0.000000  0.000000  0.000000   \n",
       "3     0.000000  0.517878  0.000000  0.00000  0.000000  0.000000  0.000000   \n",
       "4     0.000000  0.603884  0.000000  0.00000  0.000000  0.000000  0.000000   \n",
       "...        ...       ...       ...      ...       ...       ...       ...   \n",
       "2656  0.423760  0.000000  0.404908  0.00000  0.000000  0.000000  0.000000   \n",
       "2657  0.000000  0.000000  0.000000  0.00000  0.000000  0.633109  0.643606   \n",
       "2658  0.000000  0.697666  0.392573  0.00000  0.000000  0.000000  0.000000   \n",
       "2659  0.000000  0.000000  0.000000  0.00000  0.548934  0.000000  0.000000   \n",
       "2660  0.000000  0.000000  0.498928  0.00000  0.000000  0.000000  0.000000   \n",
       "\n",
       "        google        in      ipad  ...        of        on      quot  \\\n",
       "0     0.000000  0.000000  0.597116  ...  0.000000  0.000000  0.000000   \n",
       "1     0.000000  0.363138  0.000000  ...  0.000000  0.000000  0.000000   \n",
       "2     0.000000  0.000000  0.000000  ...  0.000000  0.717979  0.000000   \n",
       "3     0.000000  0.000000  0.000000  ...  0.000000  0.000000  0.000000   \n",
       "4     0.000000  0.000000  0.000000  ...  0.000000  0.647280  0.000000   \n",
       "...        ...       ...       ...  ...       ...       ...       ...   \n",
       "2656  0.000000  0.000000  0.000000  ...  0.346117  0.000000  0.456585   \n",
       "2657  0.000000  0.000000  0.000000  ...  0.000000  0.000000  0.000000   \n",
       "2658  0.000000  0.000000  0.273399  ...  0.000000  0.373901  0.000000   \n",
       "2659  0.644706  0.000000  0.000000  ...  0.000000  0.000000  0.000000   \n",
       "2660  0.000000  0.000000  0.000000  ...  0.426486  0.000000  0.000000   \n",
       "\n",
       "         store      sxsw       the        to        up  with       you  \n",
       "0     0.000000  0.138983  0.258406  0.000000  0.000000   0.0  0.000000  \n",
       "1     0.393008  0.138131  0.000000  0.000000  0.473165   0.0  0.000000  \n",
       "2     0.000000  0.122196  0.227194  0.258356  0.000000   0.0  0.000000  \n",
       "3     0.000000  0.188948  0.000000  0.000000  0.000000   0.0  0.665921  \n",
       "4     0.000000  0.220327  0.409645  0.000000  0.000000   0.0  0.000000  \n",
       "...        ...       ...       ...       ...       ...   ...       ...  \n",
       "2656  0.000000  0.131270  0.000000  0.277542  0.000000   0.0  0.000000  \n",
       "2657  0.000000  0.090656  0.168553  0.191672  0.000000   0.0  0.000000  \n",
       "2658  0.000000  0.127271  0.236631  0.269087  0.000000   0.0  0.000000  \n",
       "2659  0.000000  0.251999  0.468532  0.000000  0.000000   0.0  0.000000  \n",
       "2660  0.000000  0.161752  0.300738  0.000000  0.000000   0.0  0.000000  \n",
       "\n",
       "[2661 rows x 25 columns]"
      ]
     },
     "execution_count": 142,
     "metadata": {},
     "output_type": "execute_result"
    }
   ],
   "source": [
    "# Import the relevant vectorizer class\n",
    "from sklearn.feature_extraction.text import TfidfVectorizer\n",
    "\n",
    "# Instantiate a vectorizer with max_features=10\n",
    "# (we are using the default token pattern)\n",
    "tfidf = TfidfVectorizer(max_features=25)\n",
    "\n",
    "# Fit the vectorizer on X_train[\"text\"] and transform it\n",
    "X_train_vectorized = tfidf.fit_transform(X_train['tweet_text'])\n",
    "\n",
    "# Visually inspect the 10 most common words\n",
    "pd.DataFrame.sparse.from_spmatrix(X_train_vectorized, columns=tfidf.get_feature_names())"
   ]
  },
  {
   "cell_type": "markdown",
   "id": "ab029c53",
   "metadata": {},
   "source": [
    "## Greg's Lecture"
   ]
  },
  {
   "cell_type": "code",
   "execution_count": 143,
   "id": "4fb1ca14",
   "metadata": {},
   "outputs": [],
   "source": [
    "def get_wordnet_pos(treebank_tag):\n",
    "    '''\n",
    "    Translate nltk POS to wordnet tags\n",
    "    '''\n",
    "    if treebank_tag.startswith('J'):\n",
    "        return wordnet.ADJ\n",
    "    elif treebank_tag.startswith('V'):\n",
    "        return wordnet.VERB\n",
    "    elif treebank_tag.startswith('N'):\n",
    "        return wordnet.NOUN\n",
    "    elif treebank_tag.startswith('R'):\n",
    "        return wordnet.ADV\n",
    "    else:\n",
    "        return wordnet.NOUN"
   ]
  },
  {
   "cell_type": "code",
   "execution_count": 181,
   "id": "fbcd59bc",
   "metadata": {},
   "outputs": [],
   "source": [
    "def doc_preparer(doc, stop_words=sw):\n",
    "    '''\n",
    "    \n",
    "    :param doc: a document from the satire corpus \n",
    "    :return: a document string with words which have been \n",
    "            lemmatized, \n",
    "            parsed for stopwords, \n",
    "            made lowercase,\n",
    "            and stripped of punctuation and numbers.\n",
    "    '''\n",
    "    \n",
    "    regex_token = RegexpTokenizer(r\"([a-zA-Z]+(?:’[a-z]+)?)\")\n",
    "    doc = regex_token.tokenize(doc)\n",
    "    doc = [word.lower() for word in doc]\n",
    "    doc = [word for word in doc if word not in sw]\n",
    "    #print(doc)\n",
    "    doc = pos_tag(doc)\n",
    "    doc = [(word[0], get_wordnet_pos(word[1])) for word in doc]\n",
    "    lemmatizer = WordNetLemmatizer() \n",
    "    doc = [lemmatizer.lemmatize(word[0], word[1]) for word in doc]\n",
    "    return ' '.join(doc)"
   ]
  },
  {
   "cell_type": "code",
   "execution_count": 182,
   "id": "d6358992",
   "metadata": {},
   "outputs": [],
   "source": [
    "token_docs = [doc_preparer(doc, sw) for doc in X_train['tweet_text']]"
   ]
  },
  {
   "cell_type": "code",
   "execution_count": 183,
   "id": "3c3032a2",
   "metadata": {},
   "outputs": [],
   "source": [
    "# Secondary train-test split to build our best model\n",
    "X_t, X_val, y_t, y_val = train_test_split(token_docs, y_train,\n",
    "                                          test_size=0.25, random_state=42)"
   ]
  },
  {
   "cell_type": "code",
   "execution_count": 184,
   "id": "ebaa29d7",
   "metadata": {},
   "outputs": [],
   "source": [
    "cv = CountVectorizer(max_features=5)\n",
    "\n",
    "X_t_vec = cv.fit_transform(X_t)\n",
    "X_t_vec = pd.DataFrame.sparse.from_spmatrix(X_t_vec)\n",
    "X_t_vec.columns = sorted(cv.vocabulary_)\n",
    "X_t_vec.set_index(y_t.index, inplace=True)"
   ]
  },
  {
   "cell_type": "code",
   "execution_count": 185,
   "id": "d94a07b1",
   "metadata": {},
   "outputs": [
    {
     "data": {
      "text/html": [
       "<div>\n",
       "<style scoped>\n",
       "    .dataframe tbody tr th:only-of-type {\n",
       "        vertical-align: middle;\n",
       "    }\n",
       "\n",
       "    .dataframe tbody tr th {\n",
       "        vertical-align: top;\n",
       "    }\n",
       "\n",
       "    .dataframe thead th {\n",
       "        text-align: right;\n",
       "    }\n",
       "</style>\n",
       "<table border=\"1\" class=\"dataframe\">\n",
       "  <thead>\n",
       "    <tr style=\"text-align: right;\">\n",
       "      <th></th>\n",
       "      <th>apple</th>\n",
       "      <th>google</th>\n",
       "      <th>ipad</th>\n",
       "      <th>iphone</th>\n",
       "      <th>sxsw</th>\n",
       "    </tr>\n",
       "  </thead>\n",
       "  <tbody>\n",
       "    <tr>\n",
       "      <th>1361</th>\n",
       "      <td>0</td>\n",
       "      <td>0</td>\n",
       "      <td>1</td>\n",
       "      <td>0</td>\n",
       "      <td>1</td>\n",
       "    </tr>\n",
       "    <tr>\n",
       "      <th>3249</th>\n",
       "      <td>1</td>\n",
       "      <td>0</td>\n",
       "      <td>0</td>\n",
       "      <td>0</td>\n",
       "      <td>1</td>\n",
       "    </tr>\n",
       "    <tr>\n",
       "      <th>769</th>\n",
       "      <td>0</td>\n",
       "      <td>1</td>\n",
       "      <td>0</td>\n",
       "      <td>0</td>\n",
       "      <td>1</td>\n",
       "    </tr>\n",
       "    <tr>\n",
       "      <th>6171</th>\n",
       "      <td>0</td>\n",
       "      <td>0</td>\n",
       "      <td>0</td>\n",
       "      <td>0</td>\n",
       "      <td>1</td>\n",
       "    </tr>\n",
       "    <tr>\n",
       "      <th>1805</th>\n",
       "      <td>1</td>\n",
       "      <td>0</td>\n",
       "      <td>0</td>\n",
       "      <td>0</td>\n",
       "      <td>1</td>\n",
       "    </tr>\n",
       "    <tr>\n",
       "      <th>...</th>\n",
       "      <td>...</td>\n",
       "      <td>...</td>\n",
       "      <td>...</td>\n",
       "      <td>...</td>\n",
       "      <td>...</td>\n",
       "    </tr>\n",
       "    <tr>\n",
       "      <th>5715</th>\n",
       "      <td>0</td>\n",
       "      <td>0</td>\n",
       "      <td>0</td>\n",
       "      <td>1</td>\n",
       "      <td>1</td>\n",
       "    </tr>\n",
       "    <tr>\n",
       "      <th>7358</th>\n",
       "      <td>0</td>\n",
       "      <td>0</td>\n",
       "      <td>1</td>\n",
       "      <td>0</td>\n",
       "      <td>1</td>\n",
       "    </tr>\n",
       "    <tr>\n",
       "      <th>6659</th>\n",
       "      <td>0</td>\n",
       "      <td>0</td>\n",
       "      <td>0</td>\n",
       "      <td>0</td>\n",
       "      <td>1</td>\n",
       "    </tr>\n",
       "    <tr>\n",
       "      <th>3044</th>\n",
       "      <td>1</td>\n",
       "      <td>0</td>\n",
       "      <td>0</td>\n",
       "      <td>0</td>\n",
       "      <td>2</td>\n",
       "    </tr>\n",
       "    <tr>\n",
       "      <th>4342</th>\n",
       "      <td>0</td>\n",
       "      <td>1</td>\n",
       "      <td>0</td>\n",
       "      <td>0</td>\n",
       "      <td>1</td>\n",
       "    </tr>\n",
       "  </tbody>\n",
       "</table>\n",
       "<p>1995 rows × 5 columns</p>\n",
       "</div>"
      ],
      "text/plain": [
       "      apple  google  ipad  iphone  sxsw\n",
       "1361      0       0     1       0     1\n",
       "3249      1       0     0       0     1\n",
       "769       0       1     0       0     1\n",
       "6171      0       0     0       0     1\n",
       "1805      1       0     0       0     1\n",
       "...     ...     ...   ...     ...   ...\n",
       "5715      0       0     0       1     1\n",
       "7358      0       0     1       0     1\n",
       "6659      0       0     0       0     1\n",
       "3044      1       0     0       0     2\n",
       "4342      0       1     0       0     1\n",
       "\n",
       "[1995 rows x 5 columns]"
      ]
     },
     "execution_count": 185,
     "metadata": {},
     "output_type": "execute_result"
    }
   ],
   "source": [
    "X_t_vec"
   ]
  },
  {
   "cell_type": "code",
   "execution_count": 186,
   "id": "4130f1f0",
   "metadata": {},
   "outputs": [],
   "source": [
    "# We then transform the validation set. (Do not refit the vectorizer!)\n",
    "\n",
    "X_val_vec = cv.transform(X_val)\n",
    "X_val_vec  = pd.DataFrame.sparse.from_spmatrix(X_val_vec)\n",
    "X_val_vec.columns = sorted(cv.vocabulary_)\n",
    "X_val_vec.set_index(y_val.index, inplace=True)"
   ]
  },
  {
   "cell_type": "code",
   "execution_count": 187,
   "id": "1049e7ab",
   "metadata": {},
   "outputs": [
    {
     "data": {
      "text/plain": [
       "MultinomialNB()"
      ]
     },
     "execution_count": 187,
     "metadata": {},
     "output_type": "execute_result"
    }
   ],
   "source": [
    "mnb = MultinomialNB()\n",
    "\n",
    "mnb.fit(X_t_vec, y_t)"
   ]
  },
  {
   "cell_type": "code",
   "execution_count": 188,
   "id": "8294c9c3",
   "metadata": {},
   "outputs": [
    {
     "name": "stdout",
     "output_type": "stream",
     "text": [
      "0.8355889724310777 0.1644110275689223\n"
     ]
    }
   ],
   "source": [
    "#What should our priors for each class be?\n",
    "\n",
    "prior_1 = y_t.value_counts()[1]/len(y_t)\n",
    "prior_3 = y_t.value_counts()[3]/len(y_t)\n",
    "print(prior_3, prior_1)"
   ]
  },
  {
   "cell_type": "code",
   "execution_count": 152,
   "id": "4703a15c",
   "metadata": {},
   "outputs": [
    {
     "data": {
      "text/plain": [
       "array([-1.80538572, -0.17961845])"
      ]
     },
     "execution_count": 152,
     "metadata": {},
     "output_type": "execute_result"
    }
   ],
   "source": [
    "mnb.class_log_prior_"
   ]
  },
  {
   "cell_type": "code",
   "execution_count": 153,
   "id": "7cf6af6a",
   "metadata": {},
   "outputs": [
    {
     "data": {
      "text/plain": [
       "0.8513513513513513"
      ]
     },
     "execution_count": 153,
     "metadata": {},
     "output_type": "execute_result"
    }
   ],
   "source": [
    "y_hat = mnb.predict(X_val_vec)\n",
    "accuracy_score(y_val, y_hat)"
   ]
  },
  {
   "cell_type": "markdown",
   "id": "8b9f075b",
   "metadata": {},
   "source": [
    "## Checking with 50 words vectorized"
   ]
  },
  {
   "cell_type": "code",
   "execution_count": 189,
   "id": "490e730e",
   "metadata": {},
   "outputs": [
    {
     "name": "stdout",
     "output_type": "stream",
     "text": [
      "0.8355889724310777 0.1644110275689223\n"
     ]
    },
    {
     "data": {
      "text/plain": [
       "0.8318318318318318"
      ]
     },
     "execution_count": 189,
     "metadata": {},
     "output_type": "execute_result"
    }
   ],
   "source": [
    "cv = CountVectorizer(max_features=50)\n",
    "\n",
    "X_t_vec = cv.fit_transform(X_t)\n",
    "X_t_vec = pd.DataFrame.sparse.from_spmatrix(X_t_vec)\n",
    "X_t_vec.columns = sorted(cv.vocabulary_)\n",
    "X_t_vec.set_index(y_t.index, inplace=True)\n",
    "\n",
    "X_t_vec\n",
    "\n",
    "# We then transform the validation set. (Do not refit the vectorizer!)\n",
    "\n",
    "X_val_vec = cv.transform(X_val)\n",
    "X_val_vec  = pd.DataFrame.sparse.from_spmatrix(X_val_vec)\n",
    "X_val_vec.columns = sorted(cv.vocabulary_)\n",
    "X_val_vec.set_index(y_val.index, inplace=True)\n",
    "\n",
    "mnb = MultinomialNB()\n",
    "\n",
    "mnb.fit(X_t_vec, y_t)\n",
    "\n",
    "#What should our priors for each class be?\n",
    "\n",
    "prior_1 = y_t.value_counts()[1]/len(y_t)\n",
    "prior_3 = y_t.value_counts()[3]/len(y_t)\n",
    "print(prior_3, prior_1)\n",
    "\n",
    "mnb.class_log_prior_\n",
    "\n",
    "y_hat = mnb.predict(X_val_vec)\n",
    "accuracy_score(y_val, y_hat)"
   ]
  },
  {
   "cell_type": "markdown",
   "id": "444eaf68",
   "metadata": {},
   "source": [
    "## No Restrictions  ***"
   ]
  },
  {
   "cell_type": "code",
   "execution_count": 190,
   "id": "ac3db10c",
   "metadata": {},
   "outputs": [
    {
     "name": "stdout",
     "output_type": "stream",
     "text": [
      "0.8355889724310777 0.1644110275689223\n"
     ]
    },
    {
     "data": {
      "text/plain": [
       "0.8783783783783784"
      ]
     },
     "execution_count": 190,
     "metadata": {},
     "output_type": "execute_result"
    }
   ],
   "source": [
    "cv = CountVectorizer()\n",
    "\n",
    "X_t_vec = cv.fit_transform(X_t)\n",
    "X_t_vec = pd.DataFrame.sparse.from_spmatrix(X_t_vec)\n",
    "X_t_vec.columns = sorted(cv.vocabulary_)\n",
    "X_t_vec.set_index(y_t.index, inplace=True)\n",
    "\n",
    "X_t_vec\n",
    "\n",
    "# We then transform the validation set. (Do not refit the vectorizer!)\n",
    "\n",
    "X_val_vec = cv.transform(X_val)\n",
    "X_val_vec  = pd.DataFrame.sparse.from_spmatrix(X_val_vec)\n",
    "X_val_vec.columns = sorted(cv.vocabulary_)\n",
    "X_val_vec.set_index(y_val.index, inplace=True)\n",
    "\n",
    "mnb = MultinomialNB()\n",
    "\n",
    "mnb.fit(X_t_vec, y_t)\n",
    "\n",
    "#What should our priors for each class be?\n",
    "\n",
    "prior_1 = y_t.value_counts()[1]/len(y_t)\n",
    "prior_3 = y_t.value_counts()[3]/len(y_t)\n",
    "print(prior_3, prior_1)\n",
    "\n",
    "mnb.class_log_prior_\n",
    "\n",
    "y_hat = mnb.predict(X_val_vec)\n",
    "accuracy_score(y_val, y_hat)"
   ]
  },
  {
   "cell_type": "code",
   "execution_count": 191,
   "id": "bc796de0",
   "metadata": {},
   "outputs": [
    {
     "data": {
      "text/plain": [
       "array([[ 26,  73],\n",
       "       [  8, 559]])"
      ]
     },
     "execution_count": 191,
     "metadata": {},
     "output_type": "execute_result"
    }
   ],
   "source": [
    "confusion_matrix(y_val, y_hat)"
   ]
  },
  {
   "cell_type": "markdown",
   "id": "d27d92c9",
   "metadata": {},
   "source": [
    "### With an N gram range of 2"
   ]
  },
  {
   "cell_type": "code",
   "execution_count": 192,
   "id": "662e2d88",
   "metadata": {},
   "outputs": [
    {
     "name": "stdout",
     "output_type": "stream",
     "text": [
      "0.8355889724310777 0.1644110275689223\n"
     ]
    },
    {
     "data": {
      "text/plain": [
       "0.8843843843843844"
      ]
     },
     "execution_count": 192,
     "metadata": {},
     "output_type": "execute_result"
    }
   ],
   "source": [
    "cv = CountVectorizer(ngram_range=(1,2))\n",
    "\n",
    "X_t_vec = cv.fit_transform(X_t)\n",
    "X_t_vec = pd.DataFrame.sparse.from_spmatrix(X_t_vec)\n",
    "X_t_vec.columns = sorted(cv.vocabulary_)\n",
    "X_t_vec.set_index(y_t.index, inplace=True)\n",
    "\n",
    "X_t_vec\n",
    "\n",
    "# We then transform the validation set. (Do not refit the vectorizer!)\n",
    "\n",
    "X_val_vec = cv.transform(X_val)\n",
    "X_val_vec  = pd.DataFrame.sparse.from_spmatrix(X_val_vec)\n",
    "X_val_vec.columns = sorted(cv.vocabulary_)\n",
    "X_val_vec.set_index(y_val.index, inplace=True)\n",
    "\n",
    "mnb = MultinomialNB()\n",
    "\n",
    "mnb.fit(X_t_vec, y_t)\n",
    "\n",
    "#What should our priors for each class be?\n",
    "\n",
    "prior_1 = y_t.value_counts()[1]/len(y_t)\n",
    "prior_3 = y_t.value_counts()[3]/len(y_t)\n",
    "print(prior_3, prior_1)\n",
    "\n",
    "mnb.class_log_prior_\n",
    "\n",
    "y_hat = mnb.predict(X_val_vec)\n",
    "accuracy_score(y_val, y_hat)"
   ]
  },
  {
   "cell_type": "markdown",
   "id": "5763ccb0",
   "metadata": {},
   "source": [
    "### N gram range of 3"
   ]
  },
  {
   "cell_type": "code",
   "execution_count": 193,
   "id": "3422003b",
   "metadata": {},
   "outputs": [
    {
     "name": "stdout",
     "output_type": "stream",
     "text": [
      "0.8355889724310777 0.1644110275689223\n"
     ]
    },
    {
     "data": {
      "text/plain": [
       "0.8843843843843844"
      ]
     },
     "execution_count": 193,
     "metadata": {},
     "output_type": "execute_result"
    }
   ],
   "source": [
    "cv = CountVectorizer(ngram_range=(1,3))\n",
    "\n",
    "X_t_vec = cv.fit_transform(X_t)\n",
    "X_t_vec = pd.DataFrame.sparse.from_spmatrix(X_t_vec)\n",
    "X_t_vec.columns = sorted(cv.vocabulary_)\n",
    "X_t_vec.set_index(y_t.index, inplace=True)\n",
    "\n",
    "X_t_vec\n",
    "\n",
    "# We then transform the validation set. (Do not refit the vectorizer!)\n",
    "\n",
    "X_val_vec = cv.transform(X_val)\n",
    "X_val_vec  = pd.DataFrame.sparse.from_spmatrix(X_val_vec)\n",
    "X_val_vec.columns = sorted(cv.vocabulary_)\n",
    "X_val_vec.set_index(y_val.index, inplace=True)\n",
    "\n",
    "mnb = MultinomialNB()\n",
    "\n",
    "mnb.fit(X_t_vec, y_t)\n",
    "\n",
    "#What should our priors for each class be?\n",
    "\n",
    "prior_1 = y_t.value_counts()[1]/len(y_t)\n",
    "prior_3 = y_t.value_counts()[3]/len(y_t)\n",
    "print(prior_3, prior_1)\n",
    "\n",
    "mnb.class_log_prior_\n",
    "\n",
    "y_hat = mnb.predict(X_val_vec)\n",
    "accuracy_score(y_val, y_hat)"
   ]
  },
  {
   "cell_type": "markdown",
   "id": "e5e57454",
   "metadata": {},
   "source": [
    "## Limiting word percentages"
   ]
  },
  {
   "cell_type": "code",
   "execution_count": 194,
   "id": "1e5dcef3",
   "metadata": {},
   "outputs": [
    {
     "name": "stdout",
     "output_type": "stream",
     "text": [
      "0.8355889724310777 0.1644110275689223\n"
     ]
    },
    {
     "data": {
      "text/plain": [
       "0.8513513513513513"
      ]
     },
     "execution_count": 194,
     "metadata": {},
     "output_type": "execute_result"
    }
   ],
   "source": [
    "cv = CountVectorizer(min_df=0.05, max_df=0.95)\n",
    "\n",
    "X_t_vec = cv.fit_transform(X_t)\n",
    "X_t_vec = pd.DataFrame.sparse.from_spmatrix(X_t_vec)\n",
    "X_t_vec.columns = sorted(cv.vocabulary_)\n",
    "X_t_vec.set_index(y_t.index, inplace=True)\n",
    "\n",
    "X_t_vec\n",
    "\n",
    "# We then transform the validation set. (Do not refit the vectorizer!)\n",
    "\n",
    "X_val_vec = cv.transform(X_val)\n",
    "X_val_vec  = pd.DataFrame.sparse.from_spmatrix(X_val_vec)\n",
    "X_val_vec.columns = sorted(cv.vocabulary_)\n",
    "X_val_vec.set_index(y_val.index, inplace=True)\n",
    "\n",
    "mnb = MultinomialNB()\n",
    "\n",
    "mnb.fit(X_t_vec, y_t)\n",
    "\n",
    "#What should our priors for each class be?\n",
    "\n",
    "prior_1 = y_t.value_counts()[1]/len(y_t)\n",
    "prior_3 = y_t.value_counts()[3]/len(y_t)\n",
    "print(prior_3, prior_1)\n",
    "\n",
    "mnb.class_log_prior_\n",
    "\n",
    "y_hat = mnb.predict(X_val_vec)\n",
    "accuracy_score(y_val, y_hat)"
   ]
  },
  {
   "cell_type": "markdown",
   "id": "72287dcd",
   "metadata": {},
   "source": [
    "### That was not as good"
   ]
  },
  {
   "cell_type": "markdown",
   "id": "a92a0abe",
   "metadata": {},
   "source": [
    "# TFIDF "
   ]
  },
  {
   "cell_type": "code",
   "execution_count": 195,
   "id": "d887666c",
   "metadata": {},
   "outputs": [
    {
     "data": {
      "text/plain": [
       "0.8573573573573574"
      ]
     },
     "execution_count": 195,
     "metadata": {},
     "output_type": "execute_result"
    }
   ],
   "source": [
    "tfidf = TfidfVectorizer()\n",
    "X_t_vec = tfidf.fit_transform(X_t)\n",
    "X_t_vec  = pd.DataFrame.sparse.from_spmatrix(X_t_vec)\n",
    "X_t_vec.columns = sorted(tfidf.vocabulary_)\n",
    "X_t_vec.set_index(y_t.index, inplace=True)\n",
    "\n",
    "X_val_vec = tfidf.transform(X_val)\n",
    "X_val_vec  = pd.DataFrame.sparse.from_spmatrix(X_val_vec)\n",
    "X_val_vec.columns = sorted(tfidf.vocabulary_)\n",
    "X_val_vec.set_index(y_val.index, inplace=True)\n",
    "\n",
    "mnb = MultinomialNB()\n",
    "\n",
    "mnb.fit(X_t_vec, y_t)\n",
    "y_hat = mnb.predict(X_val_vec)\n",
    "\n",
    "accuracy_score(y_val, y_hat)"
   ]
  },
  {
   "cell_type": "markdown",
   "id": "e279c7f5",
   "metadata": {},
   "source": [
    "## Limiting word amounts"
   ]
  },
  {
   "cell_type": "code",
   "execution_count": 196,
   "id": "f2487e3c",
   "metadata": {},
   "outputs": [
    {
     "data": {
      "text/plain": [
       "0.8513513513513513"
      ]
     },
     "execution_count": 196,
     "metadata": {},
     "output_type": "execute_result"
    }
   ],
   "source": [
    "tfidf = TfidfVectorizer(min_df=0.05, max_df=0.95)\n",
    "X_t_vec = tfidf.fit_transform(X_t)\n",
    "X_t_vec  = pd.DataFrame.sparse.from_spmatrix(X_t_vec)\n",
    "X_t_vec.columns = sorted(tfidf.vocabulary_)\n",
    "X_t_vec.set_index(y_t.index, inplace=True)\n",
    "\n",
    "X_val_vec = tfidf.transform(X_val)\n",
    "X_val_vec  = pd.DataFrame.sparse.from_spmatrix(X_val_vec)\n",
    "X_val_vec.columns = sorted(tfidf.vocabulary_)\n",
    "X_val_vec.set_index(y_val.index, inplace=True)\n",
    "\n",
    "mnb = MultinomialNB()\n",
    "\n",
    "mnb.fit(X_t_vec, y_t)\n",
    "y_hat = mnb.predict(X_val_vec)\n",
    "\n",
    "accuracy_score(y_val, y_hat)"
   ]
  },
  {
   "cell_type": "markdown",
   "id": "f5b05f51",
   "metadata": {},
   "source": [
    "### Trying with ngram"
   ]
  },
  {
   "cell_type": "markdown",
   "id": "60e83836",
   "metadata": {},
   "source": [
    "### range of 2"
   ]
  },
  {
   "cell_type": "code",
   "execution_count": 197,
   "id": "f4d6d19d",
   "metadata": {},
   "outputs": [
    {
     "data": {
      "text/plain": [
       "0.8573573573573574"
      ]
     },
     "execution_count": 197,
     "metadata": {},
     "output_type": "execute_result"
    }
   ],
   "source": [
    "tfidf = TfidfVectorizer(ngram_range=(1,2))\n",
    "X_t_vec = tfidf.fit_transform(X_t)\n",
    "X_t_vec  = pd.DataFrame.sparse.from_spmatrix(X_t_vec)\n",
    "X_t_vec.columns = sorted(tfidf.vocabulary_)\n",
    "X_t_vec.set_index(y_t.index, inplace=True)\n",
    "\n",
    "X_val_vec = tfidf.transform(X_val)\n",
    "X_val_vec  = pd.DataFrame.sparse.from_spmatrix(X_val_vec)\n",
    "X_val_vec.columns = sorted(tfidf.vocabulary_)\n",
    "X_val_vec.set_index(y_val.index, inplace=True)\n",
    "\n",
    "mnb = MultinomialNB()\n",
    "\n",
    "mnb.fit(X_t_vec, y_t)\n",
    "y_hat = mnb.predict(X_val_vec)\n",
    "\n",
    "accuracy_score(y_val, y_hat)"
   ]
  },
  {
   "cell_type": "markdown",
   "id": "6e3382e3",
   "metadata": {},
   "source": [
    "### range of 3"
   ]
  },
  {
   "cell_type": "code",
   "execution_count": 198,
   "id": "1924f334",
   "metadata": {},
   "outputs": [
    {
     "data": {
      "text/plain": [
       "0.8618618618618619"
      ]
     },
     "execution_count": 198,
     "metadata": {},
     "output_type": "execute_result"
    }
   ],
   "source": [
    "tfidf = TfidfVectorizer(ngram_range=(1,3))\n",
    "X_t_vec = tfidf.fit_transform(X_t)\n",
    "X_t_vec  = pd.DataFrame.sparse.from_spmatrix(X_t_vec)\n",
    "X_t_vec.columns = sorted(tfidf.vocabulary_)\n",
    "X_t_vec.set_index(y_t.index, inplace=True)\n",
    "\n",
    "X_val_vec = tfidf.transform(X_val)\n",
    "X_val_vec  = pd.DataFrame.sparse.from_spmatrix(X_val_vec)\n",
    "X_val_vec.columns = sorted(tfidf.vocabulary_)\n",
    "X_val_vec.set_index(y_val.index, inplace=True)\n",
    "\n",
    "mnb = MultinomialNB()\n",
    "\n",
    "mnb.fit(X_t_vec, y_t)\n",
    "y_hat = mnb.predict(X_val_vec)\n",
    "\n",
    "accuracy_score(y_val, y_hat)"
   ]
  },
  {
   "cell_type": "markdown",
   "id": "fbaf91ea",
   "metadata": {},
   "source": [
    "### range of 4"
   ]
  },
  {
   "cell_type": "code",
   "execution_count": 199,
   "id": "46e7b991",
   "metadata": {},
   "outputs": [
    {
     "data": {
      "text/plain": [
       "0.8633633633633634"
      ]
     },
     "execution_count": 199,
     "metadata": {},
     "output_type": "execute_result"
    }
   ],
   "source": [
    "tfidf = TfidfVectorizer(ngram_range=(1,4))\n",
    "X_t_vec = tfidf.fit_transform(X_t)\n",
    "X_t_vec  = pd.DataFrame.sparse.from_spmatrix(X_t_vec)\n",
    "X_t_vec.columns = sorted(tfidf.vocabulary_)\n",
    "X_t_vec.set_index(y_t.index, inplace=True)\n",
    "\n",
    "X_val_vec = tfidf.transform(X_val)\n",
    "X_val_vec  = pd.DataFrame.sparse.from_spmatrix(X_val_vec)\n",
    "X_val_vec.columns = sorted(tfidf.vocabulary_)\n",
    "X_val_vec.set_index(y_val.index, inplace=True)\n",
    "\n",
    "mnb = MultinomialNB()\n",
    "\n",
    "mnb.fit(X_t_vec, y_t)\n",
    "y_hat = mnb.predict(X_val_vec)\n",
    "\n",
    "accuracy_score(y_val, y_hat)"
   ]
  },
  {
   "cell_type": "markdown",
   "id": "c60abce2",
   "metadata": {},
   "source": [
    "# Random Forest"
   ]
  },
  {
   "cell_type": "code",
   "execution_count": 200,
   "id": "58fd179d",
   "metadata": {},
   "outputs": [
    {
     "data": {
      "text/plain": [
       "0.8513513513513513"
      ]
     },
     "execution_count": 200,
     "metadata": {},
     "output_type": "execute_result"
    }
   ],
   "source": [
    "rf = RandomForestClassifier(n_estimators=1000, max_features=12, max_depth=15)\n",
    "rf.fit(X_t_vec, y_t)\n",
    "y_hat = rf.predict(X_val_vec)\n",
    "accuracy_score(y_val, y_hat)"
   ]
  },
  {
   "cell_type": "markdown",
   "id": "832fa3da",
   "metadata": {},
   "source": [
    "## Random Forest with grid search "
   ]
  },
  {
   "cell_type": "code",
   "execution_count": 201,
   "id": "4ebcdb86",
   "metadata": {},
   "outputs": [],
   "source": [
    "rf2 = RandomForestClassifier()"
   ]
  },
  {
   "cell_type": "code",
   "execution_count": 202,
   "id": "bc23c466",
   "metadata": {},
   "outputs": [],
   "source": [
    "params = {\n",
    "    'max_depth': [5,10,20],\n",
    "    'max_features': [3,11,15],\n",
    "    'min_samples_leaf': [2,8,10],\n",
    "    'min_samples_split': [3,10,11],\n",
    "    'n_estimators': [10,75, 100],\n",
    "    \n",
    "}"
   ]
  },
  {
   "cell_type": "code",
   "execution_count": 203,
   "id": "83fa2c25",
   "metadata": {},
   "outputs": [],
   "source": [
    "grid_forest = GridSearchCV(rf2, params, n_jobs=-1, verbose=3, cv=2)"
   ]
  },
  {
   "cell_type": "code",
   "execution_count": 204,
   "id": "4a4eb857",
   "metadata": {},
   "outputs": [],
   "source": [
    "#grid_forest.fit(X_t_vec, y_t)"
   ]
  },
  {
   "cell_type": "code",
   "execution_count": 172,
   "id": "6fb00cfd",
   "metadata": {},
   "outputs": [],
   "source": [
    "#grid_forest.best_estimator_"
   ]
  },
  {
   "cell_type": "code",
   "execution_count": null,
   "id": "a8880728",
   "metadata": {},
   "outputs": [],
   "source": [
    "best_forest = RandomForestClassifier(max_depth=5, max_features=3, min_samples_leaf=2,\n",
    "                       min_samples_split=3, n_estimators=10)"
   ]
  },
  {
   "cell_type": "code",
   "execution_count": 170,
   "id": "6602f3a8",
   "metadata": {},
   "outputs": [
    {
     "data": {
      "text/plain": [
       "RandomForestClassifier(max_depth=5, max_features=3, min_samples_leaf=2,\n",
       "                       min_samples_split=3, n_estimators=10)"
      ]
     },
     "execution_count": 170,
     "metadata": {},
     "output_type": "execute_result"
    }
   ],
   "source": [
    "best_forest.fit(X_t_vec, y_t)"
   ]
  },
  {
   "cell_type": "code",
   "execution_count": 171,
   "id": "c22d317f",
   "metadata": {},
   "outputs": [
    {
     "data": {
      "text/plain": [
       "0.8355889724310777"
      ]
     },
     "execution_count": 171,
     "metadata": {},
     "output_type": "execute_result"
    }
   ],
   "source": [
    "best_forest.score(X_t_vec, y_t)"
   ]
  },
  {
   "cell_type": "markdown",
   "id": "5f395537",
   "metadata": {},
   "source": [
    "# SVC"
   ]
  },
  {
   "cell_type": "markdown",
   "id": "91cbdfb7",
   "metadata": {},
   "source": [
    "https://www.vebuso.com/2020/03/svm-hyperparameter-tuning-using-gridsearchcv/"
   ]
  },
  {
   "cell_type": "code",
   "execution_count": 173,
   "id": "eb8ab101",
   "metadata": {},
   "outputs": [],
   "source": [
    "param_grid = {'C': [0.1, 100], # took out 1, and 10 for time sake\n",
    "              'gamma': [1, 0.001], # took out 0.1,0.01\n",
    "              'kernel': ['rbf', 'poly', 'sigmoid']}"
   ]
  },
  {
   "cell_type": "markdown",
   "id": "af1854d5",
   "metadata": {},
   "source": [
    "after running GridSearch for an hour this error occured at the very end. \n",
    "TypeError: Argument 'X' has incorrect type (expected numpy.ndarray, got csr_matrix)\n",
    "therefore, I'm trying to vconvert X_t_vec to numpy\n"
   ]
  },
  {
   "cell_type": "code",
   "execution_count": 174,
   "id": "5b61a6f7",
   "metadata": {},
   "outputs": [],
   "source": [
    "X_t_vec_numpy = X_t_vec.to_numpy()"
   ]
  },
  {
   "cell_type": "code",
   "execution_count": 175,
   "id": "9c4e17d8",
   "metadata": {},
   "outputs": [
    {
     "name": "stdout",
     "output_type": "stream",
     "text": [
      "Fitting 5 folds for each of 12 candidates, totalling 60 fits\n",
      "[CV] END .........................C=0.1, gamma=1, kernel=rbf; total time= 1.3min\n",
      "[CV] END .........................C=0.1, gamma=1, kernel=rbf; total time= 1.2min\n",
      "[CV] END .........................C=0.1, gamma=1, kernel=rbf; total time= 1.2min\n",
      "[CV] END .........................C=0.1, gamma=1, kernel=rbf; total time= 1.2min\n",
      "[CV] END .........................C=0.1, gamma=1, kernel=rbf; total time= 1.2min\n",
      "[CV] END ........................C=0.1, gamma=1, kernel=poly; total time= 1.1min\n",
      "[CV] END ........................C=0.1, gamma=1, kernel=poly; total time=  59.6s\n",
      "[CV] END ........................C=0.1, gamma=1, kernel=poly; total time= 1.0min\n",
      "[CV] END ........................C=0.1, gamma=1, kernel=poly; total time= 1.1min\n",
      "[CV] END ........................C=0.1, gamma=1, kernel=poly; total time= 1.1min\n",
      "[CV] END .....................C=0.1, gamma=1, kernel=sigmoid; total time=  59.6s\n",
      "[CV] END .....................C=0.1, gamma=1, kernel=sigmoid; total time=  59.6s\n",
      "[CV] END .....................C=0.1, gamma=1, kernel=sigmoid; total time=  59.3s\n",
      "[CV] END .....................C=0.1, gamma=1, kernel=sigmoid; total time= 1.0min\n",
      "[CV] END .....................C=0.1, gamma=1, kernel=sigmoid; total time=  59.4s\n",
      "[CV] END .....................C=0.1, gamma=0.001, kernel=rbf; total time=  26.9s\n",
      "[CV] END .....................C=0.1, gamma=0.001, kernel=rbf; total time=  27.1s\n",
      "[CV] END .....................C=0.1, gamma=0.001, kernel=rbf; total time=  27.0s\n",
      "[CV] END .....................C=0.1, gamma=0.001, kernel=rbf; total time=  26.8s\n",
      "[CV] END .....................C=0.1, gamma=0.001, kernel=rbf; total time=  26.8s\n",
      "[CV] END ....................C=0.1, gamma=0.001, kernel=poly; total time=  23.0s\n",
      "[CV] END ....................C=0.1, gamma=0.001, kernel=poly; total time=  22.9s\n",
      "[CV] END ....................C=0.1, gamma=0.001, kernel=poly; total time=  22.7s\n",
      "[CV] END ....................C=0.1, gamma=0.001, kernel=poly; total time=  22.8s\n",
      "[CV] END ....................C=0.1, gamma=0.001, kernel=poly; total time=  22.8s\n",
      "[CV] END .................C=0.1, gamma=0.001, kernel=sigmoid; total time=  22.8s\n",
      "[CV] END .................C=0.1, gamma=0.001, kernel=sigmoid; total time=  22.8s\n",
      "[CV] END .................C=0.1, gamma=0.001, kernel=sigmoid; total time=  22.7s\n",
      "[CV] END .................C=0.1, gamma=0.001, kernel=sigmoid; total time=  22.8s\n",
      "[CV] END .................C=0.1, gamma=0.001, kernel=sigmoid; total time=  22.7s\n",
      "[CV] END .........................C=100, gamma=1, kernel=rbf; total time= 1.2min\n",
      "[CV] END .........................C=100, gamma=1, kernel=rbf; total time= 1.3min\n",
      "[CV] END .........................C=100, gamma=1, kernel=rbf; total time= 1.3min\n",
      "[CV] END .........................C=100, gamma=1, kernel=rbf; total time= 1.3min\n",
      "[CV] END .........................C=100, gamma=1, kernel=rbf; total time= 1.3min\n",
      "[CV] END ........................C=100, gamma=1, kernel=poly; total time= 1.1min\n",
      "[CV] END ........................C=100, gamma=1, kernel=poly; total time= 1.1min\n",
      "[CV] END ........................C=100, gamma=1, kernel=poly; total time= 1.1min\n",
      "[CV] END ........................C=100, gamma=1, kernel=poly; total time= 1.1min\n",
      "[CV] END ........................C=100, gamma=1, kernel=poly; total time= 1.1min\n",
      "[CV] END .....................C=100, gamma=1, kernel=sigmoid; total time= 1.0min\n",
      "[CV] END .....................C=100, gamma=1, kernel=sigmoid; total time= 1.1min\n",
      "[CV] END .....................C=100, gamma=1, kernel=sigmoid; total time= 1.0min\n",
      "[CV] END .....................C=100, gamma=1, kernel=sigmoid; total time= 1.0min\n",
      "[CV] END .....................C=100, gamma=1, kernel=sigmoid; total time= 1.0min\n",
      "[CV] END .....................C=100, gamma=0.001, kernel=rbf; total time= 1.2min\n",
      "[CV] END .....................C=100, gamma=0.001, kernel=rbf; total time= 1.2min\n",
      "[CV] END .....................C=100, gamma=0.001, kernel=rbf; total time= 1.2min\n",
      "[CV] END .....................C=100, gamma=0.001, kernel=rbf; total time= 1.2min\n",
      "[CV] END .....................C=100, gamma=0.001, kernel=rbf; total time= 1.2min\n",
      "[CV] END ....................C=100, gamma=0.001, kernel=poly; total time=  22.8s\n",
      "[CV] END ....................C=100, gamma=0.001, kernel=poly; total time=  22.8s\n",
      "[CV] END ....................C=100, gamma=0.001, kernel=poly; total time=  22.8s\n",
      "[CV] END ....................C=100, gamma=0.001, kernel=poly; total time=  22.7s\n",
      "[CV] END ....................C=100, gamma=0.001, kernel=poly; total time=  22.8s\n",
      "[CV] END .................C=100, gamma=0.001, kernel=sigmoid; total time=  59.1s\n",
      "[CV] END .................C=100, gamma=0.001, kernel=sigmoid; total time=  59.9s\n",
      "[CV] END .................C=100, gamma=0.001, kernel=sigmoid; total time=  59.9s\n",
      "[CV] END .................C=100, gamma=0.001, kernel=sigmoid; total time=  58.3s\n",
      "[CV] END .................C=100, gamma=0.001, kernel=sigmoid; total time=  57.9s\n"
     ]
    },
    {
     "data": {
      "text/plain": [
       "GridSearchCV(estimator=SVC(),\n",
       "             param_grid={'C': [0.1, 100], 'gamma': [1, 0.001],\n",
       "                         'kernel': ['rbf', 'poly', 'sigmoid']},\n",
       "             verbose=2)"
      ]
     },
     "execution_count": 175,
     "metadata": {},
     "output_type": "execute_result"
    }
   ],
   "source": [
    "grid_svc = GridSearchCV(SVC(), param_grid, refit=True, verbose=2)\n",
    "grid_svc.fit(X_t_vec_numpy, y_t)\n"
   ]
  },
  {
   "cell_type": "code",
   "execution_count": 176,
   "id": "f147ab5f",
   "metadata": {},
   "outputs": [
    {
     "data": {
      "text/plain": [
       "SVC(C=100, gamma=1, kernel='sigmoid')"
      ]
     },
     "execution_count": 176,
     "metadata": {},
     "output_type": "execute_result"
    }
   ],
   "source": [
    "grid_svc.best_estimator_"
   ]
  },
  {
   "cell_type": "code",
   "execution_count": 178,
   "id": "80b636ea",
   "metadata": {},
   "outputs": [
    {
     "data": {
      "text/plain": [
       "SVC(C=100, gamma=1, kernel='sigmoid')"
      ]
     },
     "execution_count": 178,
     "metadata": {},
     "output_type": "execute_result"
    }
   ],
   "source": [
    "svc = SVC(C=100, gamma=1, kernel='sigmoid')\n",
    "svc.fit(X_t_vec_numpy, y_t)"
   ]
  },
  {
   "cell_type": "code",
   "execution_count": 208,
   "id": "6ff82c3c",
   "metadata": {},
   "outputs": [],
   "source": [
    "from imblearn.pipeline       import Pipeline \n",
    "from sklearn.model_selection import cross_validate\n",
    "from imblearn.over_sampling  import RandomOverSampler\n",
    "import numpy as np\n",
    "from sklearn.metrics import precision_score\n",
    "\n",
    "nb_pipe2  = Pipeline([('vect',    CountVectorizer()),\n",
    "                     ('tfidf',   TfidfTransformer()),\n",
    "                     ('sampler', RandomOverSampler('minority',random_state=42)),\n",
    "                     ('model',   MultinomialNB())])"
   ]
  },
  {
   "cell_type": "code",
   "execution_count": 210,
   "id": "a1a3c55e",
   "metadata": {},
   "outputs": [
    {
     "data": {
      "text/html": [
       "<div>\n",
       "<style scoped>\n",
       "    .dataframe tbody tr th:only-of-type {\n",
       "        vertical-align: middle;\n",
       "    }\n",
       "\n",
       "    .dataframe tbody tr th {\n",
       "        vertical-align: top;\n",
       "    }\n",
       "\n",
       "    .dataframe thead th {\n",
       "        text-align: right;\n",
       "    }\n",
       "</style>\n",
       "<table border=\"1\" class=\"dataframe\">\n",
       "  <thead>\n",
       "    <tr style=\"text-align: right;\">\n",
       "      <th></th>\n",
       "      <th>tweet_text</th>\n",
       "      <th>emotion_in_tweet_is_directed_at</th>\n",
       "      <th>emotion</th>\n",
       "      <th>clean_tweet</th>\n",
       "      <th>clean_tokens</th>\n",
       "    </tr>\n",
       "  </thead>\n",
       "  <tbody>\n",
       "    <tr>\n",
       "      <th>692</th>\n",
       "      <td>the first iPad didnt even exist here last year...</td>\n",
       "      <td>iPad</td>\n",
       "      <td>Negative emotion</td>\n",
       "      <td>the first iPad didnt even exist here last year...</td>\n",
       "      <td>[first, ipad, didnt, even, exist, last, year, ...</td>\n",
       "    </tr>\n",
       "    <tr>\n",
       "      <th>3060</th>\n",
       "      <td>Thats awesome Its not a rumor Apple is opening...</td>\n",
       "      <td>Apple</td>\n",
       "      <td>Positive emotion</td>\n",
       "      <td>Thats awesome Its not a rumor Apple is opening...</td>\n",
       "      <td>[thats, awesome, rumor, apple, opening, tempor...</td>\n",
       "    </tr>\n",
       "    <tr>\n",
       "      <th>2088</th>\n",
       "      <td>had to charge the #iphone every 6hours here on...</td>\n",
       "      <td>iPhone</td>\n",
       "      <td>Negative emotion</td>\n",
       "      <td>had to charge the #iphone every 6hours here on...</td>\n",
       "      <td>[charge, iphone, every, hours, sxsw, running, ...</td>\n",
       "    </tr>\n",
       "    <tr>\n",
       "      <th>4998</th>\n",
       "      <td>Really COOL Stop by and let us make you a cust...</td>\n",
       "      <td>iPhone</td>\n",
       "      <td>Positive emotion</td>\n",
       "      <td>Really COOL Stop by and let us make you a cust...</td>\n",
       "      <td>[really, cool, stop, let, us, make, custom, ip...</td>\n",
       "    </tr>\n",
       "    <tr>\n",
       "      <th>5931</th>\n",
       "      <td>Googles Marissa Mayer on the locationbased fas...</td>\n",
       "      <td>Google</td>\n",
       "      <td>Positive emotion</td>\n",
       "      <td>Googles Marissa Mayer on the locationbased fas...</td>\n",
       "      <td>[googles, marissa, mayer, locationbased, fast,...</td>\n",
       "    </tr>\n",
       "    <tr>\n",
       "      <th>...</th>\n",
       "      <td>...</td>\n",
       "      <td>...</td>\n",
       "      <td>...</td>\n",
       "      <td>...</td>\n",
       "      <td>...</td>\n",
       "    </tr>\n",
       "    <tr>\n",
       "      <th>7253</th>\n",
       "      <td>Banks innovate or die is a great session &amp;quot...</td>\n",
       "      <td>iPad or iPhone App</td>\n",
       "      <td>Positive emotion</td>\n",
       "      <td>Banks innovate or die is a great session &amp;quot...</td>\n",
       "      <td>[banks, innovate, die, great, session, quot, k...</td>\n",
       "    </tr>\n",
       "    <tr>\n",
       "      <th>4833</th>\n",
       "      <td>Heading to Austin for #SXSW The  Austin guide ...</td>\n",
       "      <td>iPad or iPhone App</td>\n",
       "      <td>Positive emotion</td>\n",
       "      <td>Heading to Austin for #SXSW The  Austin guide ...</td>\n",
       "      <td>[heading, austin, sxsw, austin, guide, iphone,...</td>\n",
       "    </tr>\n",
       "    <tr>\n",
       "      <th>3568</th>\n",
       "      <td>I used to think that and then they started ma...</td>\n",
       "      <td>iPad or iPhone App</td>\n",
       "      <td>Positive emotion</td>\n",
       "      <td>I used to think that and then they started ma...</td>\n",
       "      <td>[used, think, started, making, great, apps, of...</td>\n",
       "    </tr>\n",
       "    <tr>\n",
       "      <th>5278</th>\n",
       "      <td>#SXSW #sxswparty Matt Damon upstairs at the Go...</td>\n",
       "      <td>NaN</td>\n",
       "      <td>Positive emotion</td>\n",
       "      <td>#SXSW #sxswparty Matt Damon upstairs at the Go...</td>\n",
       "      <td>[sxsw, sxswparty, matt, damon, upstairs, googl...</td>\n",
       "    </tr>\n",
       "    <tr>\n",
       "      <th>6611</th>\n",
       "      <td>The day Bank of America launched their iPhone ...</td>\n",
       "      <td>iPad or iPhone App</td>\n",
       "      <td>Positive emotion</td>\n",
       "      <td>The day Bank of America launched their iPhone ...</td>\n",
       "      <td>[day, bank, america, launched, iphone, app, go...</td>\n",
       "    </tr>\n",
       "  </tbody>\n",
       "</table>\n",
       "<p>2661 rows × 5 columns</p>\n",
       "</div>"
      ],
      "text/plain": [
       "                                             tweet_text  \\\n",
       "692   the first iPad didnt even exist here last year...   \n",
       "3060  Thats awesome Its not a rumor Apple is opening...   \n",
       "2088  had to charge the #iphone every 6hours here on...   \n",
       "4998  Really COOL Stop by and let us make you a cust...   \n",
       "5931  Googles Marissa Mayer on the locationbased fas...   \n",
       "...                                                 ...   \n",
       "7253  Banks innovate or die is a great session &quot...   \n",
       "4833  Heading to Austin for #SXSW The  Austin guide ...   \n",
       "3568   I used to think that and then they started ma...   \n",
       "5278  #SXSW #sxswparty Matt Damon upstairs at the Go...   \n",
       "6611  The day Bank of America launched their iPhone ...   \n",
       "\n",
       "     emotion_in_tweet_is_directed_at           emotion  \\\n",
       "692                             iPad  Negative emotion   \n",
       "3060                           Apple  Positive emotion   \n",
       "2088                          iPhone  Negative emotion   \n",
       "4998                          iPhone  Positive emotion   \n",
       "5931                          Google  Positive emotion   \n",
       "...                              ...               ...   \n",
       "7253              iPad or iPhone App  Positive emotion   \n",
       "4833              iPad or iPhone App  Positive emotion   \n",
       "3568              iPad or iPhone App  Positive emotion   \n",
       "5278                             NaN  Positive emotion   \n",
       "6611              iPad or iPhone App  Positive emotion   \n",
       "\n",
       "                                            clean_tweet  \\\n",
       "692   the first iPad didnt even exist here last year...   \n",
       "3060  Thats awesome Its not a rumor Apple is opening...   \n",
       "2088  had to charge the #iphone every 6hours here on...   \n",
       "4998  Really COOL Stop by and let us make you a cust...   \n",
       "5931  Googles Marissa Mayer on the locationbased fas...   \n",
       "...                                                 ...   \n",
       "7253  Banks innovate or die is a great session &quot...   \n",
       "4833  Heading to Austin for #SXSW The  Austin guide ...   \n",
       "3568   I used to think that and then they started ma...   \n",
       "5278  #SXSW #sxswparty Matt Damon upstairs at the Go...   \n",
       "6611  The day Bank of America launched their iPhone ...   \n",
       "\n",
       "                                           clean_tokens  \n",
       "692   [first, ipad, didnt, even, exist, last, year, ...  \n",
       "3060  [thats, awesome, rumor, apple, opening, tempor...  \n",
       "2088  [charge, iphone, every, hours, sxsw, running, ...  \n",
       "4998  [really, cool, stop, let, us, make, custom, ip...  \n",
       "5931  [googles, marissa, mayer, locationbased, fast,...  \n",
       "...                                                 ...  \n",
       "7253  [banks, innovate, die, great, session, quot, k...  \n",
       "4833  [heading, austin, sxsw, austin, guide, iphone,...  \n",
       "3568  [used, think, started, making, great, apps, of...  \n",
       "5278  [sxsw, sxswparty, matt, damon, upstairs, googl...  \n",
       "6611  [day, bank, america, launched, iphone, app, go...  \n",
       "\n",
       "[2661 rows x 5 columns]"
      ]
     },
     "execution_count": 210,
     "metadata": {},
     "output_type": "execute_result"
    }
   ],
   "source": [
    "X_train"
   ]
  },
  {
   "cell_type": "code",
   "execution_count": 212,
   "id": "49772bff",
   "metadata": {},
   "outputs": [
    {
     "data": {
      "text/plain": [
       "Pipeline(steps=[('vect', CountVectorizer()), ('tfidf', TfidfTransformer()),\n",
       "                ('sampler',\n",
       "                 RandomOverSampler(random_state=42,\n",
       "                                   sampling_strategy='minority')),\n",
       "                ('model', MultinomialNB())])"
      ]
     },
     "execution_count": 212,
     "metadata": {},
     "output_type": "execute_result"
    }
   ],
   "source": [
    "nb_pipe2.fit(X_train['tweet_text'], y_train)"
   ]
  },
  {
   "cell_type": "code",
   "execution_count": 217,
   "id": "e8870dbb",
   "metadata": {},
   "outputs": [
    {
     "data": {
      "text/plain": [
       "0.9421270199173243"
      ]
     },
     "execution_count": 217,
     "metadata": {},
     "output_type": "execute_result"
    }
   ],
   "source": [
    "nb_pipe2.score(X_train['tweet_text'], y_train)"
   ]
  },
  {
   "cell_type": "code",
   "execution_count": 219,
   "id": "34779752",
   "metadata": {},
   "outputs": [
    {
     "ename": "NameError",
     "evalue": "name 'train_x' is not defined",
     "output_type": "error",
     "traceback": [
      "\u001b[0;31m---------------------------------------------------------------------------\u001b[0m",
      "\u001b[0;31mNameError\u001b[0m                                 Traceback (most recent call last)",
      "\u001b[0;32m/var/folders/dp/5k1wgpbj6d72lnbdgvwv16l40000gn/T/ipykernel_9356/4003525125.py\u001b[0m in \u001b[0;36m<module>\u001b[0;34m\u001b[0m\n\u001b[1;32m     11\u001b[0m \u001b[0;34m\u001b[0m\u001b[0m\n\u001b[1;32m     12\u001b[0m \u001b[0mgrid_search_tune\u001b[0m \u001b[0;34m=\u001b[0m \u001b[0mGridSearchCV\u001b[0m\u001b[0;34m(\u001b[0m\u001b[0mnb_pipe3\u001b[0m\u001b[0;34m,\u001b[0m \u001b[0mparameters\u001b[0m\u001b[0;34m,\u001b[0m \u001b[0mcv\u001b[0m\u001b[0;34m=\u001b[0m\u001b[0;36m2\u001b[0m\u001b[0;34m,\u001b[0m \u001b[0mn_jobs\u001b[0m\u001b[0;34m=\u001b[0m\u001b[0;36m2\u001b[0m\u001b[0;34m,\u001b[0m \u001b[0mverbose\u001b[0m\u001b[0;34m=\u001b[0m\u001b[0;36m3\u001b[0m\u001b[0;34m)\u001b[0m\u001b[0;34m\u001b[0m\u001b[0;34m\u001b[0m\u001b[0m\n\u001b[0;32m---> 13\u001b[0;31m \u001b[0mgrid_search_tune\u001b[0m\u001b[0;34m.\u001b[0m\u001b[0mfit\u001b[0m\u001b[0;34m(\u001b[0m\u001b[0mtrain_x\u001b[0m\u001b[0;34m,\u001b[0m \u001b[0mtrain_y\u001b[0m\u001b[0;34m)\u001b[0m\u001b[0;34m\u001b[0m\u001b[0;34m\u001b[0m\u001b[0m\n\u001b[0m",
      "\u001b[0;31mNameError\u001b[0m: name 'train_x' is not defined"
     ]
    }
   ],
   "source": [
    "nb_pipe3 = Pipeline([\n",
    "    ('tfidf', TfidfVectorizer(stop_words=stopwords)),\n",
    "    ('clf', MultinomialNB(\n",
    "        fit_prior=True, class_prior=None)),\n",
    "])\n",
    "parameters = {\n",
    "    'tfidf__max_df': (0.25, 0.5, 0.75),\n",
    "    'tfidf__ngram_range': [(1, 2), (1, 3), (1, 4)],\n",
    "    'clf__estimator__alpha': (1e-2, 1e-3, 1e-4)\n",
    "}\n",
    "\n",
    "grid_search_tune = GridSearchCV(nb_pipe3, parameters, cv=2, n_jobs=2, verbose=3)\n",
    "grid_search_tune.fit(train_docs, train_y)\n"
   ]
  },
  {
   "cell_type": "code",
   "execution_count": null,
   "id": "2840bd1f",
   "metadata": {},
   "outputs": [],
   "source": []
  }
 ],
 "metadata": {
  "kernelspec": {
   "display_name": "firstEnv",
   "language": "python",
   "name": "firstenv"
  },
  "language_info": {
   "codemirror_mode": {
    "name": "ipython",
    "version": 3
   },
   "file_extension": ".py",
   "mimetype": "text/x-python",
   "name": "python",
   "nbconvert_exporter": "python",
   "pygments_lexer": "ipython3",
   "version": "3.9.6"
  }
 },
 "nbformat": 4,
 "nbformat_minor": 5
}
