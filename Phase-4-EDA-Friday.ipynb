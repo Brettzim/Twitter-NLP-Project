{
 "cells": [
  {
   "cell_type": "code",
   "execution_count": 1,
   "id": "f30eff9d",
   "metadata": {},
   "outputs": [],
   "source": [
    "import pandas as pd\n",
    "import matplotlib.pyplot as plt\n",
    "import numpy as np\n",
    "\n",
    "import nltk\n",
    "from nltk.probability import FreqDist\n",
    "from nltk.corpus import stopwords, wordnet\n",
    "from nltk.tokenize import regexp_tokenize, word_tokenize, RegexpTokenizer\n",
    "from nltk import pos_tag\n",
    "from nltk.stem import WordNetLemmatizer\n",
    "\n",
    "import string\n",
    "import re\n",
    "from collections import defaultdict\n",
    "\n",
    "from sklearn.feature_extraction.text import CountVectorizer, TfidfVectorizer,\\\n",
    "HashingVectorizer\n",
    "from sklearn.model_selection import train_test_split\n",
    "from sklearn.ensemble import RandomForestClassifier\n",
    "from sklearn.naive_bayes import MultinomialNB\n",
    "from sklearn.metrics import accuracy_score, precision_score, confusion_matrix\n",
    "\n",
    "#from src.confusion import plot_confusion_matrix"
   ]
  },
  {
   "cell_type": "code",
   "execution_count": 2,
   "id": "088c6a03",
   "metadata": {},
   "outputs": [
    {
     "data": {
      "text/html": [
       "<div>\n",
       "<style scoped>\n",
       "    .dataframe tbody tr th:only-of-type {\n",
       "        vertical-align: middle;\n",
       "    }\n",
       "\n",
       "    .dataframe tbody tr th {\n",
       "        vertical-align: top;\n",
       "    }\n",
       "\n",
       "    .dataframe thead th {\n",
       "        text-align: right;\n",
       "    }\n",
       "</style>\n",
       "<table border=\"1\" class=\"dataframe\">\n",
       "  <thead>\n",
       "    <tr style=\"text-align: right;\">\n",
       "      <th></th>\n",
       "      <th>tweet_text</th>\n",
       "      <th>emotion_in_tweet_is_directed_at</th>\n",
       "      <th>is_there_an_emotion_directed_at_a_brand_or_product</th>\n",
       "    </tr>\n",
       "  </thead>\n",
       "  <tbody>\n",
       "    <tr>\n",
       "      <th>0</th>\n",
       "      <td>.@wesley83 I have a 3G iPhone. After 3 hrs twe...</td>\n",
       "      <td>iPhone</td>\n",
       "      <td>Negative emotion</td>\n",
       "    </tr>\n",
       "    <tr>\n",
       "      <th>1</th>\n",
       "      <td>@jessedee Know about @fludapp ? Awesome iPad/i...</td>\n",
       "      <td>iPad or iPhone App</td>\n",
       "      <td>Positive emotion</td>\n",
       "    </tr>\n",
       "    <tr>\n",
       "      <th>2</th>\n",
       "      <td>@swonderlin Can not wait for #iPad 2 also. The...</td>\n",
       "      <td>iPad</td>\n",
       "      <td>Positive emotion</td>\n",
       "    </tr>\n",
       "    <tr>\n",
       "      <th>3</th>\n",
       "      <td>@sxsw I hope this year's festival isn't as cra...</td>\n",
       "      <td>iPad or iPhone App</td>\n",
       "      <td>Negative emotion</td>\n",
       "    </tr>\n",
       "    <tr>\n",
       "      <th>4</th>\n",
       "      <td>@sxtxstate great stuff on Fri #SXSW: Marissa M...</td>\n",
       "      <td>Google</td>\n",
       "      <td>Positive emotion</td>\n",
       "    </tr>\n",
       "  </tbody>\n",
       "</table>\n",
       "</div>"
      ],
      "text/plain": [
       "                                          tweet_text  \\\n",
       "0  .@wesley83 I have a 3G iPhone. After 3 hrs twe...   \n",
       "1  @jessedee Know about @fludapp ? Awesome iPad/i...   \n",
       "2  @swonderlin Can not wait for #iPad 2 also. The...   \n",
       "3  @sxsw I hope this year's festival isn't as cra...   \n",
       "4  @sxtxstate great stuff on Fri #SXSW: Marissa M...   \n",
       "\n",
       "  emotion_in_tweet_is_directed_at  \\\n",
       "0                          iPhone   \n",
       "1              iPad or iPhone App   \n",
       "2                            iPad   \n",
       "3              iPad or iPhone App   \n",
       "4                          Google   \n",
       "\n",
       "  is_there_an_emotion_directed_at_a_brand_or_product  \n",
       "0                                   Negative emotion  \n",
       "1                                   Positive emotion  \n",
       "2                                   Positive emotion  \n",
       "3                                   Negative emotion  \n",
       "4                                   Positive emotion  "
      ]
     },
     "execution_count": 2,
     "metadata": {},
     "output_type": "execute_result"
    }
   ],
   "source": [
    "df = pd.read_csv('phase-4-dataset.csv', encoding= 'unicode_escape')\n",
    "df.head()"
   ]
  },
  {
   "cell_type": "markdown",
   "id": "4711dc2b",
   "metadata": {},
   "source": [
    "## How many rows are we working with?"
   ]
  },
  {
   "cell_type": "code",
   "execution_count": 3,
   "id": "f69c80ea",
   "metadata": {},
   "outputs": [
    {
     "data": {
      "text/plain": [
       "(9093, 3)"
      ]
     },
     "execution_count": 3,
     "metadata": {},
     "output_type": "execute_result"
    }
   ],
   "source": [
    "df.shape"
   ]
  },
  {
   "cell_type": "markdown",
   "id": "96424477",
   "metadata": {},
   "source": [
    "Making the label column name more managable, I mean come on!"
   ]
  },
  {
   "cell_type": "code",
   "execution_count": 4,
   "id": "9de7a625",
   "metadata": {},
   "outputs": [],
   "source": [
    "df.rename(columns={\"is_there_an_emotion_directed_at_a_brand_or_product\" : \"emotion\"}, inplace=True)"
   ]
  },
  {
   "cell_type": "markdown",
   "id": "800c57df",
   "metadata": {},
   "source": [
    "Let's transform the words of that column into numbers for ourselves and rename it while were at it"
   ]
  },
  {
   "cell_type": "code",
   "execution_count": 5,
   "id": "96e235a3",
   "metadata": {},
   "outputs": [
    {
     "data": {
      "text/html": [
       "<div>\n",
       "<style scoped>\n",
       "    .dataframe tbody tr th:only-of-type {\n",
       "        vertical-align: middle;\n",
       "    }\n",
       "\n",
       "    .dataframe tbody tr th {\n",
       "        vertical-align: top;\n",
       "    }\n",
       "\n",
       "    .dataframe thead th {\n",
       "        text-align: right;\n",
       "    }\n",
       "</style>\n",
       "<table border=\"1\" class=\"dataframe\">\n",
       "  <thead>\n",
       "    <tr style=\"text-align: right;\">\n",
       "      <th></th>\n",
       "      <th>tweet_text</th>\n",
       "      <th>emotion_in_tweet_is_directed_at</th>\n",
       "      <th>emotion</th>\n",
       "      <th>label</th>\n",
       "    </tr>\n",
       "  </thead>\n",
       "  <tbody>\n",
       "    <tr>\n",
       "      <th>0</th>\n",
       "      <td>.@wesley83 I have a 3G iPhone. After 3 hrs twe...</td>\n",
       "      <td>iPhone</td>\n",
       "      <td>Negative emotion</td>\n",
       "      <td>1</td>\n",
       "    </tr>\n",
       "    <tr>\n",
       "      <th>1</th>\n",
       "      <td>@jessedee Know about @fludapp ? Awesome iPad/i...</td>\n",
       "      <td>iPad or iPhone App</td>\n",
       "      <td>Positive emotion</td>\n",
       "      <td>3</td>\n",
       "    </tr>\n",
       "    <tr>\n",
       "      <th>2</th>\n",
       "      <td>@swonderlin Can not wait for #iPad 2 also. The...</td>\n",
       "      <td>iPad</td>\n",
       "      <td>Positive emotion</td>\n",
       "      <td>3</td>\n",
       "    </tr>\n",
       "    <tr>\n",
       "      <th>3</th>\n",
       "      <td>@sxsw I hope this year's festival isn't as cra...</td>\n",
       "      <td>iPad or iPhone App</td>\n",
       "      <td>Negative emotion</td>\n",
       "      <td>1</td>\n",
       "    </tr>\n",
       "    <tr>\n",
       "      <th>4</th>\n",
       "      <td>@sxtxstate great stuff on Fri #SXSW: Marissa M...</td>\n",
       "      <td>Google</td>\n",
       "      <td>Positive emotion</td>\n",
       "      <td>3</td>\n",
       "    </tr>\n",
       "  </tbody>\n",
       "</table>\n",
       "</div>"
      ],
      "text/plain": [
       "                                          tweet_text  \\\n",
       "0  .@wesley83 I have a 3G iPhone. After 3 hrs twe...   \n",
       "1  @jessedee Know about @fludapp ? Awesome iPad/i...   \n",
       "2  @swonderlin Can not wait for #iPad 2 also. The...   \n",
       "3  @sxsw I hope this year's festival isn't as cra...   \n",
       "4  @sxtxstate great stuff on Fri #SXSW: Marissa M...   \n",
       "\n",
       "  emotion_in_tweet_is_directed_at           emotion  label  \n",
       "0                          iPhone  Negative emotion      1  \n",
       "1              iPad or iPhone App  Positive emotion      3  \n",
       "2                            iPad  Positive emotion      3  \n",
       "3              iPad or iPhone App  Negative emotion      1  \n",
       "4                          Google  Positive emotion      3  "
      ]
     },
     "execution_count": 5,
     "metadata": {},
     "output_type": "execute_result"
    }
   ],
   "source": [
    "from sklearn.preprocessing import LabelEncoder\n",
    "le = LabelEncoder()\n",
    "le.fit(df['emotion'])\n",
    "df['label'] = le.transform(df['emotion'])\n",
    "df.head()"
   ]
  },
  {
   "cell_type": "markdown",
   "id": "32001b0a",
   "metadata": {},
   "source": [
    "Seeing how many labels we're working with here"
   ]
  },
  {
   "cell_type": "code",
   "execution_count": 6,
   "id": "b06aa41c",
   "metadata": {},
   "outputs": [
    {
     "data": {
      "text/plain": [
       "array([1, 3, 2, 0])"
      ]
     },
     "execution_count": 6,
     "metadata": {},
     "output_type": "execute_result"
    }
   ],
   "source": [
    "df.label.unique()"
   ]
  },
  {
   "cell_type": "markdown",
   "id": "195263e2",
   "metadata": {},
   "source": [
    "## any nulls?"
   ]
  },
  {
   "cell_type": "code",
   "execution_count": 7,
   "id": "9ea90adb",
   "metadata": {},
   "outputs": [
    {
     "data": {
      "text/plain": [
       "5803"
      ]
     },
     "execution_count": 7,
     "metadata": {},
     "output_type": "execute_result"
    }
   ],
   "source": [
    "df.isnull().sum().sum()"
   ]
  },
  {
   "cell_type": "markdown",
   "id": "802ba456",
   "metadata": {},
   "source": [
    "### Let's see where all the 5903 nulls are"
   ]
  },
  {
   "cell_type": "code",
   "execution_count": 8,
   "id": "903929b9",
   "metadata": {},
   "outputs": [
    {
     "name": "stdout",
     "output_type": "stream",
     "text": [
      "<class 'pandas.core.frame.DataFrame'>\n",
      "RangeIndex: 9093 entries, 0 to 9092\n",
      "Data columns (total 4 columns):\n",
      " #   Column                           Non-Null Count  Dtype \n",
      "---  ------                           --------------  ----- \n",
      " 0   tweet_text                       9092 non-null   object\n",
      " 1   emotion_in_tweet_is_directed_at  3291 non-null   object\n",
      " 2   emotion                          9093 non-null   object\n",
      " 3   label                            9093 non-null   int64 \n",
      "dtypes: int64(1), object(3)\n",
      "memory usage: 284.3+ KB\n"
     ]
    }
   ],
   "source": [
    "df.info()"
   ]
  },
  {
   "cell_type": "markdown",
   "id": "2fcaecc1",
   "metadata": {},
   "source": [
    "### taking a look at a random tweet from the corpus"
   ]
  },
  {
   "cell_type": "code",
   "execution_count": 9,
   "id": "96f226c9",
   "metadata": {},
   "outputs": [
    {
     "data": {
      "text/plain": [
       "'Mashable! - The iPad 2 Takes Over SXSW [VIDEO] #ipad #sxsw #gadgets {link}'"
      ]
     },
     "execution_count": 9,
     "metadata": {},
     "output_type": "execute_result"
    }
   ],
   "source": [
    "df.loc[43].tweet_text"
   ]
  },
  {
   "cell_type": "markdown",
   "id": "b20df92b",
   "metadata": {},
   "source": [
    "### Let's see how it compares to one further down the rows"
   ]
  },
  {
   "cell_type": "code",
   "execution_count": 10,
   "id": "5bad6bbc",
   "metadata": {},
   "outputs": [
    {
     "data": {
      "text/plain": [
       "'@mention check it. RT @mention #SXSW FREE App Festival Explorer: find the bands you want to see from your music tastes {link}'"
      ]
     },
     "execution_count": 10,
     "metadata": {},
     "output_type": "execute_result"
    }
   ],
   "source": [
    "df.loc[2345].tweet_text"
   ]
  },
  {
   "cell_type": "markdown",
   "id": "e50efbeb",
   "metadata": {},
   "source": [
    "### What is the target for tweet 2345?"
   ]
  },
  {
   "cell_type": "code",
   "execution_count": 11,
   "id": "10a3558d",
   "metadata": {},
   "outputs": [
    {
     "data": {
      "text/plain": [
       "'Positive emotion'"
      ]
     },
     "execution_count": 11,
     "metadata": {},
     "output_type": "execute_result"
    }
   ],
   "source": [
    "df.loc[2345].emotion"
   ]
  },
  {
   "cell_type": "markdown",
   "id": "03faae78",
   "metadata": {},
   "source": [
    "### Let's look at another random tweet followed by its target"
   ]
  },
  {
   "cell_type": "code",
   "execution_count": 12,
   "id": "7e3e3f79",
   "metadata": {},
   "outputs": [
    {
     "data": {
      "text/plain": [
       "'RT @mention RT @mention Google to Launch Major New Social Network Called Circles, {link} #sxsw #nptech'"
      ]
     },
     "execution_count": 12,
     "metadata": {},
     "output_type": "execute_result"
    }
   ],
   "source": [
    "df.loc[6543].tweet_text"
   ]
  },
  {
   "cell_type": "code",
   "execution_count": 13,
   "id": "2ee69c3d",
   "metadata": {},
   "outputs": [
    {
     "data": {
      "text/plain": [
       "'Positive emotion'"
      ]
     },
     "execution_count": 13,
     "metadata": {},
     "output_type": "execute_result"
    }
   ],
   "source": [
    "df.loc[6543].emotion"
   ]
  },
  {
   "cell_type": "markdown",
   "id": "b029b29b",
   "metadata": {},
   "source": [
    "## It looks like whenever someone types the \"@\" symbol it is translated to the phrase \"@mention\" instead of \"@-the-person-or-company.\" Probably this is to protect the public so we can use this corpus and its documents freely"
   ]
  },
  {
   "cell_type": "markdown",
   "id": "c3935a55",
   "metadata": {},
   "source": [
    "#### 'RT' Seems to indicate the document is a retweet"
   ]
  },
  {
   "cell_type": "markdown",
   "id": "0c1e784a",
   "metadata": {},
   "source": [
    "### Getting ready to clean the data"
   ]
  },
  {
   "cell_type": "code",
   "execution_count": 14,
   "id": "bbeaca89",
   "metadata": {},
   "outputs": [],
   "source": [
    "sample_tweet = df.loc[68].tweet_text"
   ]
  },
  {
   "cell_type": "markdown",
   "id": "d68f46ee",
   "metadata": {},
   "source": [
    "#### Split our sample tweet"
   ]
  },
  {
   "cell_type": "code",
   "execution_count": 15,
   "id": "b740e536",
   "metadata": {},
   "outputs": [
    {
     "data": {
      "text/plain": [
       "['Boooo!',\n",
       " 'RT',\n",
       " '@mention',\n",
       " 'Flipboard',\n",
       " 'is',\n",
       " 'developing',\n",
       " 'an',\n",
       " 'iPhone',\n",
       " 'version,',\n",
       " 'not',\n",
       " 'Android,',\n",
       " 'says',\n",
       " '@mention',\n",
       " '#sxsw']"
      ]
     },
     "execution_count": 15,
     "metadata": {},
     "output_type": "execute_result"
    }
   ],
   "source": [
    "sample_tweet.split()"
   ]
  },
  {
   "cell_type": "markdown",
   "id": "ba001a9d",
   "metadata": {},
   "source": [
    "## Let's create a function that removes those pesky @ symbols and the like"
   ]
  },
  {
   "cell_type": "code",
   "execution_count": 16,
   "id": "be8321e0",
   "metadata": {},
   "outputs": [],
   "source": [
    "def remove_junk(text):\n",
    "    text = re.sub(r'@[A-Za-z0-9#]+', '', str(text)) #remove @mentions\n",
    "    text = re.sub(r'RT[\\s]+', '', str(text)) # remove RT\n",
    "    text = re.sub(r'\\[VIDEO\\]', '', str(text)) # remove [VIDEO] describer\n",
    "    text = re.sub(r'\\{link\\}', '', str(text)) # remove {link} describer\n",
    "    text = re.sub(r'https?:\\/\\/\\S+', '', text) # removes actual links\n",
    "    text = re.sub(r'[\\,\\.\\?\\*\\$\\'\\\"\\!\\(\\)\\:\\_\\/\\-\\=\\^\\;]+', '', text)\n",
    "    return text\n",
    "    \n",
    "    "
   ]
  },
  {
   "cell_type": "markdown",
   "id": "cb2e26f8",
   "metadata": {},
   "source": [
    "### Now to remove all of those @mentions"
   ]
  },
  {
   "cell_type": "code",
   "execution_count": 17,
   "id": "ddb4dce1",
   "metadata": {},
   "outputs": [],
   "source": [
    "df['tweet_text'] = df['tweet_text'].apply(remove_junk)"
   ]
  },
  {
   "cell_type": "code",
   "execution_count": 18,
   "id": "b15d8042",
   "metadata": {},
   "outputs": [
    {
     "data": {
      "text/html": [
       "<div>\n",
       "<style scoped>\n",
       "    .dataframe tbody tr th:only-of-type {\n",
       "        vertical-align: middle;\n",
       "    }\n",
       "\n",
       "    .dataframe tbody tr th {\n",
       "        vertical-align: top;\n",
       "    }\n",
       "\n",
       "    .dataframe thead th {\n",
       "        text-align: right;\n",
       "    }\n",
       "</style>\n",
       "<table border=\"1\" class=\"dataframe\">\n",
       "  <thead>\n",
       "    <tr style=\"text-align: right;\">\n",
       "      <th></th>\n",
       "      <th>tweet_text</th>\n",
       "      <th>emotion_in_tweet_is_directed_at</th>\n",
       "      <th>emotion</th>\n",
       "      <th>label</th>\n",
       "    </tr>\n",
       "  </thead>\n",
       "  <tbody>\n",
       "    <tr>\n",
       "      <th>0</th>\n",
       "      <td>I have a 3G iPhone After 3 hrs tweeting at #R...</td>\n",
       "      <td>iPhone</td>\n",
       "      <td>Negative emotion</td>\n",
       "      <td>1</td>\n",
       "    </tr>\n",
       "    <tr>\n",
       "      <th>1</th>\n",
       "      <td>Know about   Awesome iPadiPhone app that youl...</td>\n",
       "      <td>iPad or iPhone App</td>\n",
       "      <td>Positive emotion</td>\n",
       "      <td>3</td>\n",
       "    </tr>\n",
       "    <tr>\n",
       "      <th>2</th>\n",
       "      <td>Can not wait for #iPad 2 also They should sal...</td>\n",
       "      <td>iPad</td>\n",
       "      <td>Positive emotion</td>\n",
       "      <td>3</td>\n",
       "    </tr>\n",
       "    <tr>\n",
       "      <th>3</th>\n",
       "      <td>I hope this years festival isnt as crashy as ...</td>\n",
       "      <td>iPad or iPhone App</td>\n",
       "      <td>Negative emotion</td>\n",
       "      <td>1</td>\n",
       "    </tr>\n",
       "    <tr>\n",
       "      <th>4</th>\n",
       "      <td>great stuff on Fri #SXSW Marissa Mayer Google...</td>\n",
       "      <td>Google</td>\n",
       "      <td>Positive emotion</td>\n",
       "      <td>3</td>\n",
       "    </tr>\n",
       "    <tr>\n",
       "      <th>5</th>\n",
       "      <td>New iPad Apps For #SpeechTherapy And Communic...</td>\n",
       "      <td>NaN</td>\n",
       "      <td>No emotion toward brand or product</td>\n",
       "      <td>2</td>\n",
       "    </tr>\n",
       "    <tr>\n",
       "      <th>6</th>\n",
       "      <td>nan</td>\n",
       "      <td>NaN</td>\n",
       "      <td>No emotion toward brand or product</td>\n",
       "      <td>2</td>\n",
       "    </tr>\n",
       "    <tr>\n",
       "      <th>7</th>\n",
       "      <td>#SXSW is just starting #CTIA is around the cor...</td>\n",
       "      <td>Android</td>\n",
       "      <td>Positive emotion</td>\n",
       "      <td>3</td>\n",
       "    </tr>\n",
       "    <tr>\n",
       "      <th>8</th>\n",
       "      <td>Beautifully smart and simple idea wrote about ...</td>\n",
       "      <td>iPad or iPhone App</td>\n",
       "      <td>Positive emotion</td>\n",
       "      <td>3</td>\n",
       "    </tr>\n",
       "    <tr>\n",
       "      <th>9</th>\n",
       "      <td>Counting down the days to #sxsw plus strong Ca...</td>\n",
       "      <td>Apple</td>\n",
       "      <td>Positive emotion</td>\n",
       "      <td>3</td>\n",
       "    </tr>\n",
       "  </tbody>\n",
       "</table>\n",
       "</div>"
      ],
      "text/plain": [
       "                                          tweet_text  \\\n",
       "0   I have a 3G iPhone After 3 hrs tweeting at #R...   \n",
       "1   Know about   Awesome iPadiPhone app that youl...   \n",
       "2   Can not wait for #iPad 2 also They should sal...   \n",
       "3   I hope this years festival isnt as crashy as ...   \n",
       "4   great stuff on Fri #SXSW Marissa Mayer Google...   \n",
       "5   New iPad Apps For #SpeechTherapy And Communic...   \n",
       "6                                                nan   \n",
       "7  #SXSW is just starting #CTIA is around the cor...   \n",
       "8  Beautifully smart and simple idea wrote about ...   \n",
       "9  Counting down the days to #sxsw plus strong Ca...   \n",
       "\n",
       "  emotion_in_tweet_is_directed_at                             emotion  label  \n",
       "0                          iPhone                    Negative emotion      1  \n",
       "1              iPad or iPhone App                    Positive emotion      3  \n",
       "2                            iPad                    Positive emotion      3  \n",
       "3              iPad or iPhone App                    Negative emotion      1  \n",
       "4                          Google                    Positive emotion      3  \n",
       "5                             NaN  No emotion toward brand or product      2  \n",
       "6                             NaN  No emotion toward brand or product      2  \n",
       "7                         Android                    Positive emotion      3  \n",
       "8              iPad or iPhone App                    Positive emotion      3  \n",
       "9                           Apple                    Positive emotion      3  "
      ]
     },
     "execution_count": 18,
     "metadata": {},
     "output_type": "execute_result"
    }
   ],
   "source": [
    "df.head(10)"
   ]
  },
  {
   "cell_type": "code",
   "execution_count": 19,
   "id": "437136bc",
   "metadata": {},
   "outputs": [
    {
     "data": {
      "text/plain": [
       "'Photo Just installed the #SXSW iPhone app which is really nice '"
      ]
     },
     "execution_count": 19,
     "metadata": {},
     "output_type": "execute_result"
    }
   ],
   "source": [
    "df.tweet_text[23]"
   ]
  },
  {
   "cell_type": "markdown",
   "id": "aae8905a",
   "metadata": {},
   "source": [
    "## Let's see if {link} was removed from the above tweet 6543"
   ]
  },
  {
   "cell_type": "code",
   "execution_count": 20,
   "id": "307b860d",
   "metadata": {},
   "outputs": [
    {
     "data": {
      "text/plain": [
       "'Google to Launch Major New Social Network Called Circles  #sxsw #nptech'"
      ]
     },
     "execution_count": 20,
     "metadata": {},
     "output_type": "execute_result"
    }
   ],
   "source": [
    "df.loc[6543].tweet_text"
   ]
  },
  {
   "cell_type": "markdown",
   "id": "29e18110",
   "metadata": {},
   "source": [
    "### Okay, It's still there, along with 'photo' and some other possible special identifiers, we'll get rid of them "
   ]
  },
  {
   "cell_type": "code",
   "execution_count": 21,
   "id": "0361dbfc",
   "metadata": {},
   "outputs": [
    {
     "data": {
      "text/plain": [
       "'At #sxsw  Oooh Google to Launch Major New Social Network Called Circles Possibly Today '"
      ]
     },
     "execution_count": 21,
     "metadata": {},
     "output_type": "execute_result"
    }
   ],
   "source": [
    "df.tweet_text[35]"
   ]
  },
  {
   "cell_type": "markdown",
   "id": "9dd92d6f",
   "metadata": {},
   "source": [
    "## Let's write a function that prints out the entire tweet, so we can see any hidden pitfalls in the form of characters"
   ]
  },
  {
   "cell_type": "code",
   "execution_count": 22,
   "id": "9ce8bb5f",
   "metadata": {},
   "outputs": [],
   "source": [
    "def full_tweet(num):\n",
    "    return df.tweet_text[num]"
   ]
  },
  {
   "cell_type": "code",
   "execution_count": 23,
   "id": "3bd78025",
   "metadata": {},
   "outputs": [
    {
     "name": "stdout",
     "output_type": "stream",
     "text": [
      "I love my  iPhone case from #Sxsw but I cant get my phone out of it #fail\n",
      "New post Per this rumor Google may preview its big social strategy at an 80sthemed costume party at #SXSW Yep \n",
      "You must have this app for your iPad if you are going to #SXSW  #hollergram\n",
      "I need to play this game on my #android  #SXSW \n",
      "Best iPad design Big chunky elements Generous space Clarity trumps density Tap quality trumps tap quantity #tapworthy #sxsw\n",
      "Apple announces popup store at #SXSW See our take on the future of popup stores here \n",
      "Austin my pal  lost her phone please help I left my WHITE iPhone 4G in a cab in Austin at #SXSW Internet please help\n",
      "Horror stories from women in tech  #sxsw #9to5\n",
      "Marissa Mayer Google maps should have better customer service quicker responses #sxsw #FH\n",
      "Holla At google party Best ever Get your butt over here #sxsw\n",
      "Ok nerds I totally am Bateman You want me to sign your iPad 2 #sxsw\n",
      "wooooo ÛÏ Apple store downtown Austin open til Midnight #sxswÛ\n",
      "Mom  quick  apply for a job  they need help identifying this bird through search  #SXSW  \n",
      "Download 20+ free tracks from the  Music Sampler on  including   #SXSW\n",
      "#4sq sees Facebook and Google as competition via  #checkins #sxsw\n",
      "Line for iPad 2 is longer today than yesterday #SXSW   are you getting in line again today just for fun\n",
      "More than one million ratings per month on Google HotPot #SXSW pr\n",
      "Apple selling the new Terp2it album Now more than 200 lined up for #SXSW Apple pop up store\n",
      "On the first day of #SXSW the #iPad2 launch stole a lot of the thunder \n",
      "Day 5 of #sxsw already What are you doing Share photos video with iReport  or through CNN iPhone app\n",
      "Just saw the iPad 2 up close or the first time at #sxsw  Its shiny\n",
      "Nothing says DOUCHE CAKE like walking around with a IPAD like its an Iphone #sxsw\n",
      "Grown men playing legos Google party #sxsw   Speakeasy \n",
      "#at&ampt giving away amazing prizesiPhone Android kindle tabletsamazing happening now at the Sheraton#SXSW\n",
      "#sxsw two parties down Awesome Journalism NPRGoogle one to go PBS\n",
      "Im headed down to #SXSW to hear a talk on integrated social network dynamics and team synergy  Ive got my iPad ready to go\n"
     ]
    }
   ],
   "source": [
    "print(full_tweet(76))\n",
    "print(full_tweet(999))\n",
    "print(full_tweet(31))\n",
    "print(full_tweet(1005))\n",
    "print(full_tweet(5555))\n",
    "print(full_tweet(7213))\n",
    "print(full_tweet(9003))\n",
    "print(full_tweet(6034))\n",
    "print(full_tweet(2229))\n",
    "print(full_tweet(75))\n",
    "print(full_tweet(643))\n",
    "print(full_tweet(49))\n",
    "print(full_tweet(8520))\n",
    "print(full_tweet(5688))\n",
    "print(full_tweet(489))\n",
    "print(full_tweet(6254))\n",
    "print(full_tweet(967))\n",
    "print(full_tweet(4170))\n",
    "print(full_tweet(7742))\n",
    "print(full_tweet(5657))\n",
    "print(full_tweet(8437))\n",
    "print(full_tweet(2240))\n",
    "print(full_tweet(1006))\n",
    "print(full_tweet(543))\n",
    "print(full_tweet(993))\n",
    "print(full_tweet(6079))"
   ]
  },
  {
   "cell_type": "markdown",
   "id": "37408e74",
   "metadata": {},
   "source": [
    "#### looks like there is   + , Û , Ï , ^ , ; ,  And that's just in the tweets we can see"
   ]
  },
  {
   "cell_type": "code",
   "execution_count": 24,
   "id": "32ea132c",
   "metadata": {},
   "outputs": [
    {
     "data": {
      "text/plain": [
       "'\\x8cÏ¡\\x8eÏà\\x8aü\\x8b\\x81Ê\\x8b\\x81Î\\x8b\\x81Ò\\x8b\\x81£\\x8b\\x81Á\\x8bââ\\x8b\\x81\\x8b\\x81£\\x8b\\x81\\x8f\\x8bâ\\x8bÛâGoogle Tests \\x89ÛÏCheckin Offers\\x89Û\\x9d At #SXSW '"
      ]
     },
     "execution_count": 24,
     "metadata": {},
     "output_type": "execute_result"
    }
   ],
   "source": [
    "df['tweet_text'][9092]"
   ]
  },
  {
   "cell_type": "code",
   "execution_count": null,
   "id": "9c4360e7",
   "metadata": {},
   "outputs": [],
   "source": []
  },
  {
   "cell_type": "code",
   "execution_count": null,
   "id": "363f77be",
   "metadata": {},
   "outputs": [],
   "source": []
  }
 ],
 "metadata": {
  "kernelspec": {
   "display_name": "firstEnv",
   "language": "python",
   "name": "firstenv"
  },
  "language_info": {
   "codemirror_mode": {
    "name": "ipython",
    "version": 3
   },
   "file_extension": ".py",
   "mimetype": "text/x-python",
   "name": "python",
   "nbconvert_exporter": "python",
   "pygments_lexer": "ipython3",
   "version": "3.9.6"
  }
 },
 "nbformat": 4,
 "nbformat_minor": 5
}
